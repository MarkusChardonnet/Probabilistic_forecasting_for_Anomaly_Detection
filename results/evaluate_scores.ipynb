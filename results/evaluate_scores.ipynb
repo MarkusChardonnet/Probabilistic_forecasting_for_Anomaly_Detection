{
 "cells": [
  {
   "cell_type": "markdown",
   "metadata": {},
   "source": [
    "# Notebook to evaluate inferred microbial anomaly scores\n",
    "\n",
    "To run this notebook you need to create and activate the following conda environment:\n",
    "\n",
    "```\n",
    "conda create --name score_eval -c conda-forge -c defaults numpy pandas matplotlib seaborn scipy scikit-learn ipython ipykernel -y\n",
    "conda activate score_eval\n",
    "pip install -e .\n",
    "```\n"
   ]
  },
  {
   "cell_type": "markdown",
   "metadata": {},
   "source": [
    "## Setup"
   ]
  },
  {
   "cell_type": "code",
   "execution_count": null,
   "metadata": {},
   "outputs": [],
   "source": [
    "import os\n",
    "import warnings\n",
    "\n",
    "import matplotlib.pyplot as plt\n",
    "import pandas as pd\n",
    "\n",
    "from src.utils_eval_score import (\n",
    "    _get_ordinal_suffix,\n",
    "    _plot_score_after_nth_abx_exposure,\n",
    "    _plot_score_over_age,\n",
    "    _select_samples_around_nth_abx_exposure,\n",
    "    display_scatterplot_w_scores,\n",
    "    get_scores_n_abx_info,\n",
    "    plot_time_between_abx_exposures,\n",
    "    plot_trajectory,\n",
    ")\n",
    "from src.utils_meta import display_diet_information\n",
    "\n",
    "%load_ext autoreload\n",
    "%autoreload 2\n",
    "%matplotlib inline\n",
    "plt.rcParams.update({\"font.family\": \"DejaVu Sans\"})\n",
    "plt.style.use(\"tableau-colorblind10\")\n",
    "\n",
    "warnings.filterwarnings(\"ignore\", category=FutureWarning)\n",
    "# avg. number of days per month\n",
    "DAYS_PER_MONTH = 30.437"
   ]
  },
  {
   "cell_type": "markdown",
   "metadata": {},
   "source": [
    "USER input: define the inferred model and linked datasets to evaluate here:"
   ]
  },
  {
   "cell_type": "code",
   "execution_count": null,
   "metadata": {},
   "outputs": [],
   "source": [
    "#### USER INPUT START\n",
    "# name of the model\n",
    "model_name = \"saved_models_microbial_novel_alpha_div2/id-55\"\n",
    "# which model version to evaluate: \"best\" or \"last\"\n",
    "point_to_evaluate = \"best\"\n",
    "\n",
    "# name of feature dataset used for model\n",
    "ft_name = \"ft_vat19_anomaly_v20240806_entero_genus\"\n",
    "# name of abx time-series used for model\n",
    "abx_ts_name = \"ts_vat19_abx_v20240806\"\n",
    "\n",
    "# limit evaluation to time range up to this many months (if None no limit is set\n",
    "# and all scores are evaluated)\n",
    "limit_months = 24.0\n",
    "\n",
    "# whether to group samples prior to abx exposure in analysis\n",
    "group_samples = True\n",
    "\n",
    "# how many samples prior and after abx exposure to consider\n",
    "min_samples = -3.0\n",
    "max_samples = 6.0\n",
    "\n",
    "# whether to filter noabx score samples by having at least 1 obs prior to cutoff\n",
    "no_filter = True\n",
    "\n",
    "# whether to display diet info after 1st, 2nd, 3rd abx exposure plots\n",
    "display_diet_info = True\n",
    "\n",
    "# whether to have max. resolution of 0.5 months or not\n",
    "max_resolution = False\n",
    "\n",
    "# scaling factor options:\n",
    "scaling_factors_used = True\n",
    "\n",
    "# if scaling_factors_used is True, then the following options are required:\n",
    "# non-centered = \"nc_std\" or centered = \"std\"\n",
    "stddev_type = \"nc_std\"\n",
    "# moving average window size: 30 or 10\n",
    "moving_avg = 10\n",
    "# whether to include duplicates: \"--RD-True\" or \"\"\n",
    "duplicates = \"--RD-False\"\n",
    "# using lower bound of 1 for SFs: \"lower_bound-1\" or \"\"\n",
    "lower_bound = \"\"\n",
    "\n",
    "#### USER INPUT END"
   ]
  },
  {
   "cell_type": "markdown",
   "metadata": {},
   "source": [
    "## Prepare data"
   ]
  },
  {
   "cell_type": "code",
   "execution_count": null,
   "metadata": {},
   "outputs": [],
   "source": [
    "base_path = f\"../data/{model_name}/anomaly_detection/\"\n",
    "\n",
    "res_n_group = f\"g{str(group_samples)[0]}_maxres{str(max_resolution)[0]}\"\n",
    "\n",
    "if scaling_factors_used:\n",
    "    print(\"Scaling factors used.\")\n",
    "    folder_name = f\"using-SF_{stddev_type}_z_scores--moving_avg-{moving_avg}-cummax{lower_bound}{duplicates}\"\n",
    "\n",
    "    scores_path = f\"{base_path}scores_{point_to_evaluate}_normal/{folder_name}/\"\n",
    "    evaluation_path = f\"{base_path}evaluation_{point_to_evaluate}_overall_{res_n_group}_{stddev_type}_ma{moving_avg}{duplicates.replace('-', '_').lower()}/\"\n",
    "else:\n",
    "    scores_path = f\"{base_path}scores_{point_to_evaluate}_normal/\"\n",
    "    evaluation_path = (\n",
    "        f\"{base_path}evaluation_{point_to_evaluate}_overall_{res_n_group}_no_scaling/\"\n",
    "    )\n",
    "if not os.path.exists(evaluation_path):\n",
    "    os.makedirs(evaluation_path)\n"
   ]
  },
  {
   "cell_type": "code",
   "execution_count": null,
   "metadata": {},
   "outputs": [],
   "source": [
    "noabx_train, noabx_val, abx_scores_flat, abx_df, abx_age_at_all = get_scores_n_abx_info(\n",
    "    scores_path, ft_name, limit_months, abx_ts_name, no_filter=no_filter\n",
    ")\n"
   ]
  },
  {
   "cell_type": "markdown",
   "metadata": {},
   "source": [
    "## Score after abx exposure 1st, 2nd and 3rd\n"
   ]
  },
  {
   "cell_type": "markdown",
   "metadata": {},
   "source": [
    "### score_1, score_2 and score_3 respectively"
   ]
  },
  {
   "cell_type": "code",
   "execution_count": null,
   "metadata": {},
   "outputs": [],
   "source": [
    "# get samples around n-th abx exposure\n",
    "for n in [1, 2, 3]:\n",
    "    score_col = f\"score_{n}\"\n",
    "    scores_abx_nth_samples = _select_samples_around_nth_abx_exposure(\n",
    "        abx_scores_flat,\n",
    "        abx_df,\n",
    "        n=n,\n",
    "        min_samples=min_samples,\n",
    "        max_samples=max_samples,\n",
    "        group_samples=group_samples,\n",
    "        score_var=score_col,\n",
    "        max_resolution=max_resolution,\n",
    "    )\n",
    "    print(scores_abx_nth_samples.shape)\n",
    "    _plot_score_after_nth_abx_exposure(\n",
    "        scores_abx_nth_samples,\n",
    "        x_axis=\"diff_age_nth_abx\",\n",
    "        y_axis=score_col,\n",
    "        n=n,\n",
    "        path_to_save=evaluation_path,\n",
    "        flag=score_col,\n",
    "        min_samples=min_samples,\n",
    "        max_samples=max_samples,\n",
    "        max_resolution=max_resolution,\n",
    "        grouped_samples=group_samples,\n",
    "    )\n",
    "\n",
    "    if display_diet_info:\n",
    "        suff = _get_ordinal_suffix(n)\n",
    "        xlabel = f\"Months since {n}{suff} abx exposure\"\n",
    "        if group_samples:\n",
    "            if max_resolution:\n",
    "                t1_reference = -0.5\n",
    "            else:\n",
    "                t1_reference = -1.0\n",
    "            xlabel += f\"\\n\\n(Here {t1_reference} is last sample prior \"\n",
    "            xlabel += f\"to abx since {min_samples} months)\"\n",
    "        display_diet_information(\n",
    "            scores_abx_nth_samples,\n",
    "            \"diet_milk\",\n",
    "            \"diff_age_nth_abx\",\n",
    "            \"samples\",\n",
    "            f\"Diet covariates in samples before/after {n}{suff} abx exposure\",\n",
    "            x_axis=xlabel,\n",
    "            path_to_save=evaluation_path,\n",
    "        )\n",
    "        display_diet_information(\n",
    "            scores_abx_nth_samples,\n",
    "            \"diet_weaning\",\n",
    "            \"diff_age_nth_abx\",\n",
    "            \"samples\",\n",
    "            f\"Diet covariates in samples before/after {n}{suff} abx exposure\",\n",
    "            x_axis=xlabel,\n",
    "            path_to_save=evaluation_path,\n",
    "        )"
   ]
  },
  {
   "cell_type": "code",
   "execution_count": null,
   "metadata": {},
   "outputs": [],
   "source": [
    "plot_time_between_abx_exposures(\n",
    "    abx_age_at_all, n0_label=\"1st\", n1_label=\"2nd\", path_to_save=evaluation_path\n",
    ")\n",
    "plt.show()\n",
    "plot_time_between_abx_exposures(\n",
    "    abx_age_at_all, n0_label=\"2nd\", n1_label=\"3rd\", path_to_save=evaluation_path\n",
    ")\n",
    "plt.show()"
   ]
  },
  {
   "cell_type": "markdown",
   "metadata": {},
   "source": [
    "Funfact: Here we compare hosts that have at least one sample prior or after the n-th abx exposure - so a sample that is directly influenced by the n-th exposure. This means concretely for n = 1:\n",
    "* there are 141 hosts with a 1st abx exposure\n",
    "* however, only 109 hosts are displayed in our plot with the filtering min_samples=-3, max_samples=6 and limit_months=24. 20 hosts are disregarded due to these filters. the remaining 12 hosts (see list below) have no samples prior or after the 1st abx exposure and are always excluded from these plots.\n",
    "\n",
    "list of hosts with no sample before or directly affected by 1st abx exposure only: `['P003825', 'E002825', 'E007743', 'E014953', 'T029922', 'P010096', 'T000094', 'T000272', 'E012971', 'T028183', 'E016444', 'T007404']`"
   ]
  },
  {
   "cell_type": "markdown",
   "metadata": {},
   "source": [
    "## Compare characteristics of 1st vs. 2nd abx exposures"
   ]
  },
  {
   "cell_type": "code",
   "execution_count": null,
   "metadata": {},
   "outputs": [],
   "source": [
    "results = []\n",
    "\n",
    "for n in [1, 2, 3]:\n",
    "    score_col = f\"score_{n}\"\n",
    "    scores_abx_nth_samples = _select_samples_around_nth_abx_exposure(\n",
    "        abx_scores_flat,\n",
    "        abx_df,\n",
    "        n=n,\n",
    "        min_samples=min_samples,\n",
    "        max_samples=max_samples,\n",
    "        group_samples=group_samples,\n",
    "        score_var=score_col,\n",
    "        max_resolution=max_resolution,\n",
    "    )\n",
    "    # number of unique infants exposed\n",
    "    n_infants = scores_abx_nth_samples[\"host_id\"].nunique()\n",
    "    # Mean and std of abx duration\n",
    "    abx_duration_desc = scores_abx_nth_samples[\"abx_any_last_dur_days\"].describe()\n",
    "    duration_mean = abx_duration_desc[\"mean\"]\n",
    "    duration_std = abx_duration_desc[\"std\"]\n",
    "\n",
    "    # Top x abx_type names\n",
    "    abx_type_top = (\n",
    "        scores_abx_nth_samples[\"abx_type\"]\n",
    "        .value_counts(dropna=False)\n",
    "        .head(2)\n",
    "        .index.tolist()\n",
    "    )\n",
    "\n",
    "    # Top x abx_reason names\n",
    "    abx_reason_top = (\n",
    "        scores_abx_nth_samples[\"abx_reason\"]\n",
    "        .value_counts(dropna=False)\n",
    "        .head(2)\n",
    "        .index.tolist()\n",
    "    )\n",
    "\n",
    "    # infant age at abx administration: age_nth_abx\n",
    "    age_desc = scores_abx_nth_samples[\"age_nth_abx\"].describe()\n",
    "\n",
    "    # Collect results\n",
    "    results.append(\n",
    "        {\n",
    "            \"Cumcount abx exposure\": n,\n",
    "            # \"nb_infants\": n_infants,\n",
    "            \"age_mean\": age_desc[\"mean\"],\n",
    "            \"age_std\": age_desc[\"std\"],\n",
    "            \"abx_duration_days_mean\": abx_duration_desc[\"mean\"],\n",
    "            \"abx_duration_days_std\": abx_duration_desc[\"std\"],\n",
    "            \"abx_types_top2\": abx_type_top,\n",
    "            \"abx_reasons_top2\": abx_reason_top,\n",
    "        }\n",
    "    )\n",
    "\n",
    "abx_stats_df = pd.DataFrame(results)\n",
    "numeric_cols = [\n",
    "    x for x in abx_stats_df.columns if x.endswith(\"_mean\") or x.endswith(\"_std\")\n",
    "]\n",
    "abx_stats_df[numeric_cols] = abx_stats_df[numeric_cols].round(2)\n",
    "abx_stats_df"
   ]
  },
  {
   "cell_type": "markdown",
   "metadata": {},
   "source": [
    "Their abx characteristics are similar."
   ]
  },
  {
   "cell_type": "markdown",
   "metadata": {},
   "source": [
    "## Score after 3rd abx: split by time since 2nd abx exposure\n"
   ]
  },
  {
   "cell_type": "code",
   "execution_count": null,
   "metadata": {},
   "outputs": [],
   "source": [
    "if not group_samples:\n",
    "    duration_threshold = 4  # in months\n",
    "\n",
    "    # perform grouping\n",
    "    abx_time_between = abx_age_at_all.copy()\n",
    "    abx_time_between[\"time_since_2nd\"] = (\n",
    "        abx_time_between[\"age_3rd_abx\"] - abx_time_between[\"age_2nd_abx\"]\n",
    "    )\n",
    "\n",
    "    bins = [-float(\"inf\"), duration_threshold, float(\"inf\")]\n",
    "    between_labels = [\n",
    "        f\"<= {duration_threshold} months\",\n",
    "        f\"> {duration_threshold} months\",\n",
    "    ]\n",
    "    abx_time_between[\"time_since_2nd_cat\"] = pd.cut(\n",
    "        abx_time_between[\"time_since_2nd\"],\n",
    "        bins=bins,\n",
    "        labels=between_labels,\n",
    "        right=True,\n",
    "    )\n",
    "    abx_time_between.reset_index(inplace=True)\n",
    "\n",
    "    # get samples around n-th abx exposure & plot\n",
    "    n = 3\n",
    "    i = 0\n",
    "    score_col = f\"score_{n}\"\n",
    "    scores_abx_nth_samples = _select_samples_around_nth_abx_exposure(\n",
    "        abx_scores_flat,\n",
    "        abx_df,\n",
    "        n=n,\n",
    "        min_samples=min_samples,\n",
    "        max_samples=max_samples,\n",
    "        group_samples=group_samples,\n",
    "        score_var=score_col,\n",
    "        max_resolution=max_resolution,\n",
    "    )\n",
    "\n",
    "    for cat in between_labels:\n",
    "        # filter only for scores of hosts where 2nd abx is in cat time duration\n",
    "        hosts = abx_time_between[abx_time_between[\"time_since_2nd_cat\"] == cat][\n",
    "            \"host_id\"\n",
    "        ].unique()\n",
    "\n",
    "        scores_abx_nth_samples_f = scores_abx_nth_samples[\n",
    "            scores_abx_nth_samples[\"host_id\"].isin(hosts)\n",
    "        ].copy()\n",
    "        flag = f\"time_since_{n - 1}th_{i}\"\n",
    "        _plot_score_after_nth_abx_exposure(\n",
    "            scores_abx_nth_samples_f,\n",
    "            x_axis=\"diff_age_nth_abx\",\n",
    "            y_axis=score_col,\n",
    "            n=n,\n",
    "            path_to_save=evaluation_path,\n",
    "            flag=flag,\n",
    "            tag=f\"time since {n - 1}nd abx exposure {cat}\",\n",
    "            min_samples=min_samples,\n",
    "            max_samples=max_samples,\n",
    "            max_resolution=max_resolution,\n",
    "            grouped_samples=group_samples,\n",
    "        )\n",
    "        i += 1\n"
   ]
  },
  {
   "cell_type": "markdown",
   "metadata": {},
   "source": [
    "## Score after 1st and 2nd abx"
   ]
  },
  {
   "cell_type": "markdown",
   "metadata": {},
   "source": [
    "### split by abx characteristics"
   ]
  },
  {
   "cell_type": "markdown",
   "metadata": {},
   "source": [
    "#### split by abx duration:"
   ]
  },
  {
   "cell_type": "code",
   "execution_count": null,
   "metadata": {},
   "outputs": [],
   "source": [
    "for n in [1, 2]:\n",
    "    score_col = f\"score_{n}\"\n",
    "    print(score_col)\n",
    "    scores_abx_nth_samples = _select_samples_around_nth_abx_exposure(\n",
    "        abx_scores_flat,\n",
    "        abx_df,\n",
    "        n=n,\n",
    "        min_samples=min_samples,\n",
    "        max_samples=max_samples,\n",
    "        group_samples=group_samples,\n",
    "        score_var=score_col,\n",
    "        max_resolution=max_resolution,\n",
    "    )\n",
    "\n",
    "    # bin duration into short, mid and long duration\n",
    "    # scores_abx_nth_samples[\"abx_any_last_dur_days\"].hist(bins=10)\n",
    "\n",
    "    bins = [-float(\"inf\"), 7, float(\"inf\")]\n",
    "    dur_labels = [\"< 7 days\", \">= 7 days\"]\n",
    "    scores_abx_nth_samples[\"abx_duration_category\"] = pd.cut(\n",
    "        scores_abx_nth_samples[\"abx_any_last_dur_days\"],\n",
    "        bins=bins,\n",
    "        labels=dur_labels,\n",
    "        right=False,\n",
    "    )\n",
    "\n",
    "    # print(scores_abx_nth_samples[\"abx_duration_category\"].value_counts(dropna=False))\n",
    "\n",
    "    i = 0\n",
    "    for dur in dur_labels:\n",
    "        print(dur)\n",
    "        # evaluation_path_bin = f\"{evaluation_path}duration_bins{i}/\"\n",
    "        host_w_dur = (\n",
    "            scores_abx_nth_samples.loc[\n",
    "                scores_abx_nth_samples[\"abx_duration_category\"] == dur, \"host_id\"\n",
    "            ]\n",
    "            .unique()\n",
    "            .tolist()\n",
    "        )\n",
    "        scores_abx_nth_samples_dur = scores_abx_nth_samples.loc[\n",
    "            scores_abx_nth_samples[\"host_id\"].isin(host_w_dur)\n",
    "        ].copy()\n",
    "        flag_dur = f\"dur_{i}\"\n",
    "        print(f\"Number of unique infants: {scores_abx_nth_samples_dur['host_id'].nunique()}\")\n",
    "        _plot_score_after_nth_abx_exposure(\n",
    "            scores_abx_nth_samples_dur,\n",
    "            x_axis=\"diff_age_nth_abx\",\n",
    "            y_axis=score_col,\n",
    "            n=n,\n",
    "            path_to_save=evaluation_path,\n",
    "            flag=flag_dur,\n",
    "            tag=f\"duration: {dur}\",\n",
    "            min_samples=min_samples,\n",
    "            max_samples=max_samples,\n",
    "            max_resolution=max_resolution,\n",
    "            grouped_samples=group_samples,\n",
    "        )\n",
    "\n",
    "        i += 1"
   ]
  },
  {
   "cell_type": "markdown",
   "metadata": {},
   "source": [
    "#### split by type of abx (top 1 vs. others) - only n=1"
   ]
  },
  {
   "cell_type": "code",
   "execution_count": null,
   "metadata": {},
   "outputs": [],
   "source": [
    "n = 1\n",
    "score_col = f\"score_{n}\"\n",
    "scores_abx_nth_samples = _select_samples_around_nth_abx_exposure(\n",
    "    abx_scores_flat,\n",
    "    abx_df,\n",
    "    n=n,\n",
    "    min_samples=min_samples,\n",
    "    max_samples=max_samples,\n",
    "    group_samples=group_samples,\n",
    "    score_var=score_col,\n",
    "    max_resolution=max_resolution,\n",
    ")\n"
   ]
  },
  {
   "cell_type": "code",
   "execution_count": null,
   "metadata": {},
   "outputs": [],
   "source": [
    "scores_abx_nth_samples[\"abx_type\"].value_counts(dropna=False)"
   ]
  },
  {
   "cell_type": "code",
   "execution_count": null,
   "metadata": {},
   "outputs": [],
   "source": [
    "# add top 1 vs. others\n",
    "scores_abx_nth_samples[\"abx_type_cat\"] = scores_abx_nth_samples[\"abx_type\"].apply(\n",
    "    lambda x: \"Penicillin\" if x == \"Penicillin\" else \"Others\"\n",
    ")\n",
    "scores_abx_nth_samples[\"abx_type_cat\"].value_counts(dropna=False)"
   ]
  },
  {
   "cell_type": "code",
   "execution_count": null,
   "metadata": {},
   "outputs": [],
   "source": [
    "# select types to look for\n",
    "abx_types = scores_abx_nth_samples[\"abx_type_cat\"].unique().tolist()\n",
    "# abx_types = [\"Penicillin\", \"Cephalosporine\", \"Cotrimoxazole\", \"Macrolide\"]\n",
    "abx_types"
   ]
  },
  {
   "cell_type": "code",
   "execution_count": null,
   "metadata": {},
   "outputs": [],
   "source": [
    "abx_col = \"abx_type_cat\"\n",
    "# abx_col = \"abx_type\"\n",
    "for abx in abx_types:\n",
    "    print(abx)\n",
    "    abx_str = abx.lower().replace(\" \", \"_\").replace(\",\", \"_\")\n",
    "    flag_abx = f\"abx_type_{abx_str}\"\n",
    "    # evaluation_path_abx = f\"{evaluation_path}abx_type_{abx_str}/\"\n",
    "\n",
    "    # age at time of abx exposure should match a\n",
    "    scores_abx_nth_samples_abx = scores_abx_nth_samples.loc[\n",
    "        scores_abx_nth_samples[abx_col].str.contains(abx)\n",
    "    ].copy()\n",
    "\n",
    "    _plot_score_after_nth_abx_exposure(\n",
    "        scores_abx_nth_samples_abx,\n",
    "        x_axis=\"diff_age_nth_abx\",\n",
    "        y_axis=score_col,\n",
    "        n=n,\n",
    "        path_to_save=evaluation_path,\n",
    "        flag=flag_abx,\n",
    "        tag=f\"Abx type: {abx}\",\n",
    "        min_samples=min_samples,\n",
    "        max_samples=max_samples,\n",
    "        max_resolution=max_resolution,\n",
    "        grouped_samples=group_samples,\n",
    "    )\n",
    "\n",
    "    i += 1"
   ]
  },
  {
   "cell_type": "markdown",
   "metadata": {},
   "source": [
    "#### split by type of abx reason (top 1 vs. others) - only n=1"
   ]
  },
  {
   "cell_type": "code",
   "execution_count": null,
   "metadata": {},
   "outputs": [],
   "source": [
    "n = 1\n",
    "score_col = f\"score_{n}\"\n",
    "scores_abx_nth_samples = _select_samples_around_nth_abx_exposure(\n",
    "    abx_scores_flat,\n",
    "    abx_df,\n",
    "    n=n,\n",
    "    min_samples=min_samples,\n",
    "    max_samples=max_samples,\n",
    "    group_samples=group_samples,\n",
    "    score_var=score_col,\n",
    "    max_resolution=max_resolution,\n",
    ")\n",
    "# top 1 vs. others\n",
    "print(scores_abx_nth_samples[\"abx_reason\"].value_counts(dropna=False))\n",
    "\n",
    "scores_abx_nth_samples[\"abx_reason_cat\"] = scores_abx_nth_samples[\"abx_reason\"].apply(\n",
    "    lambda x: \"Otitis media\" if x == \"Otitis media\" else \"Others\"\n",
    ")\n",
    "print(scores_abx_nth_samples[\"abx_reason_cat\"].value_counts(dropna=False))\n",
    "\n",
    "reasons = scores_abx_nth_samples[\"abx_reason_cat\"].unique().tolist()\n"
   ]
  },
  {
   "cell_type": "code",
   "execution_count": null,
   "metadata": {},
   "outputs": [],
   "source": [
    "# # top 4 reasons\n",
    "# reasons = (\n",
    "#     scores_abx_nth_samples[\"abx_reason\"]\n",
    "#     .value_counts(dropna=False)\n",
    "#     .iloc[:4]\n",
    "#     .index.tolist()\n",
    "# )\n",
    "# reasons"
   ]
  },
  {
   "cell_type": "code",
   "execution_count": null,
   "metadata": {},
   "outputs": [],
   "source": [
    "for r in reasons:\n",
    "    print(r)\n",
    "    r_str = r.lower().replace(\" \", \"_\").replace(\",\", \"_\")\n",
    "    # evaluation_path_r = f\"{evaluation_path}abx_reason_{r_str}/\"\n",
    "\n",
    "    # age at time of abx exposure should match a\n",
    "    scores_abx_nth_samples_r = scores_abx_nth_samples.loc[\n",
    "        scores_abx_nth_samples[\"abx_reason\"] == r\n",
    "    ].copy()\n",
    "    flag_reason = f\"abx_reason_{r_str}\"\n",
    "    _plot_score_after_nth_abx_exposure(\n",
    "        scores_abx_nth_samples_r,\n",
    "        x_axis=\"diff_age_nth_abx\",\n",
    "        y_axis=score_col,\n",
    "        n=n,\n",
    "        path_to_save=evaluation_path,\n",
    "        flag=flag_reason,\n",
    "        tag=f\"Abx reason: {r}\",\n",
    "        min_samples=min_samples,\n",
    "        max_samples=max_samples,\n",
    "        max_resolution=max_resolution,\n",
    "        grouped_samples=group_samples,\n",
    "    )\n",
    "\n",
    "    i += 1"
   ]
  },
  {
   "cell_type": "markdown",
   "metadata": {},
   "source": [
    "### split by host characteristics"
   ]
  },
  {
   "cell_type": "markdown",
   "metadata": {},
   "source": [
    "#### split by time of life:"
   ]
  },
  {
   "cell_type": "code",
   "execution_count": null,
   "metadata": {},
   "outputs": [],
   "source": [
    "for n in [1, 2]:\n",
    "    score_col = f\"score_{n}\"\n",
    "    print(score_col)\n",
    "    scores_abx_nth_samples = _select_samples_around_nth_abx_exposure(\n",
    "        abx_scores_flat,\n",
    "        abx_df,\n",
    "        n=n,\n",
    "        min_samples=min_samples,\n",
    "        max_samples=max_samples,\n",
    "        group_samples=group_samples,\n",
    "        score_var=score_col,\n",
    "        max_resolution=max_resolution,\n",
    "    )\n",
    "\n",
    "    # bin age\n",
    "    # scores_abx_nth_samples[\"age_nth_abx\"].hist(bins=24)\n",
    "\n",
    "    bins_age = [-float(\"inf\"), 12, float(\"inf\")]\n",
    "    # <6: pre weaning\n",
    "    age_labels = [\"<= 12 months\", \"12 - 24 months\"]\n",
    "    scores_abx_nth_samples[\"age_nth_abx_category\"] = pd.cut(\n",
    "        scores_abx_nth_samples[\"age_nth_abx\"],\n",
    "        bins=bins_age,\n",
    "        labels=age_labels,\n",
    "        right=True,\n",
    "    )\n",
    "    print(scores_abx_nth_samples[\"age_nth_abx_category\"].value_counts(dropna=False))\n",
    "\n",
    "    i = 0\n",
    "    for a in age_labels:\n",
    "        print(a)\n",
    "        # evaluation_path_bin = f\"{evaluation_path}age_bins{i}/\"\n",
    "        # age at time of abx exposure should match a\n",
    "        scores_abx_nth_samples_age = scores_abx_nth_samples.loc[\n",
    "            scores_abx_nth_samples[\"age_nth_abx_category\"] == a\n",
    "        ].copy()\n",
    "        flag_age = f\"age_{i}\"\n",
    "        print(f\"Number of unique infants: {scores_abx_nth_samples_age['host_id'].nunique()}\")\n",
    "        _plot_score_after_nth_abx_exposure(\n",
    "            scores_abx_nth_samples_age,\n",
    "            x_axis=\"diff_age_nth_abx\",\n",
    "            y_axis=score_col,\n",
    "            n=n,\n",
    "            path_to_save=evaluation_path,\n",
    "            flag=flag_age,\n",
    "            tag=f\"age: {a}\",\n",
    "            min_samples=min_samples,\n",
    "            max_samples=max_samples,\n",
    "            max_resolution=max_resolution,\n",
    "            grouped_samples=group_samples,\n",
    "        )\n",
    "\n",
    "        i += 1"
   ]
  },
  {
   "cell_type": "markdown",
   "metadata": {},
   "source": [
    "#### split by delivery mode:"
   ]
  },
  {
   "cell_type": "code",
   "execution_count": null,
   "metadata": {},
   "outputs": [],
   "source": [
    "n = 1\n",
    "score_col = f\"score_{n}\"\n",
    "scores_abx_nth_samples = _select_samples_around_nth_abx_exposure(\n",
    "    abx_scores_flat,\n",
    "    abx_df,\n",
    "    n=n,\n",
    "    min_samples=min_samples,\n",
    "    max_samples=max_samples,\n",
    "    group_samples=group_samples,\n",
    "    score_var=score_col,\n",
    "    max_resolution=max_resolution,\n",
    ")\n",
    "\n",
    "delivery_labels = scores_abx_nth_samples.delivery_mode.unique().tolist()\n",
    "\n",
    "i = 0\n",
    "for a in delivery_labels:\n",
    "    print(a)\n",
    "    scores_abx_nth_samples_delivery = scores_abx_nth_samples.loc[\n",
    "        scores_abx_nth_samples[\"delivery_mode\"] == a\n",
    "    ].copy()\n",
    "\n",
    "    flag_delivery = f\"delivery_{a}\"\n",
    "\n",
    "    _plot_score_after_nth_abx_exposure(\n",
    "        scores_abx_nth_samples_delivery,\n",
    "        x_axis=\"diff_age_nth_abx\",\n",
    "        y_axis=score_col,\n",
    "        n=n,\n",
    "        path_to_save=evaluation_path,\n",
    "        flag=flag_delivery,\n",
    "        tag=f\"delivery mode: {a}\",\n",
    "        min_samples=min_samples,\n",
    "        max_samples=max_samples,\n",
    "        max_resolution=max_resolution,\n",
    "        grouped_samples=group_samples,\n",
    "    )\n",
    "\n",
    "    i += 1"
   ]
  },
  {
   "cell_type": "markdown",
   "metadata": {},
   "source": [
    "#### split by feeding mode:"
   ]
  },
  {
   "cell_type": "code",
   "execution_count": null,
   "metadata": {},
   "outputs": [],
   "source": [
    "n = 1\n",
    "score_col = f\"score_{n}\"\n",
    "scores_abx_nth_samples = _select_samples_around_nth_abx_exposure(\n",
    "    abx_scores_flat,\n",
    "    abx_df,\n",
    "    n=n,\n",
    "    min_samples=min_samples,\n",
    "    max_samples=max_samples,\n",
    "    group_samples=group_samples,\n",
    "    score_var=score_col,\n",
    "    max_resolution=max_resolution,\n",
    ")\n",
    "\n",
    "for diet_col in [\"diet_milk\", \"diet_weaning\"]:\n",
    "    diet_labels = scores_abx_nth_samples[diet_col].unique().tolist()\n",
    "\n",
    "    i = 0\n",
    "    for a in diet_labels:\n",
    "        print(a)\n",
    "        scores_abx_nth_samples_diet = scores_abx_nth_samples.loc[\n",
    "            scores_abx_nth_samples[diet_col] == a\n",
    "        ].copy()\n",
    "\n",
    "        if a is None:\n",
    "            scores_abx_nth_samples_diet = scores_abx_nth_samples.loc[\n",
    "                scores_abx_nth_samples[diet_col].isna()\n",
    "            ].copy()\n",
    "\n",
    "        flag_diet = f\"diet_{a}\"\n",
    "\n",
    "        _plot_score_after_nth_abx_exposure(\n",
    "            scores_abx_nth_samples_diet,\n",
    "            x_axis=\"diff_age_nth_abx\",\n",
    "            y_axis=score_col,\n",
    "            n=n,\n",
    "            path_to_save=evaluation_path,\n",
    "            flag=flag_diet,\n",
    "            tag=f\"diet: {diet_col}={a}\",\n",
    "            min_samples=min_samples,\n",
    "            max_samples=max_samples,\n",
    "            max_resolution=max_resolution,\n",
    "            grouped_samples=group_samples,\n",
    "        )\n",
    "\n",
    "        i += 1"
   ]
  },
  {
   "cell_type": "markdown",
   "metadata": {},
   "source": [
    "## Score over age range"
   ]
  },
  {
   "cell_type": "code",
   "execution_count": null,
   "metadata": {},
   "outputs": [],
   "source": [
    "dic_splits_n_scores = {\n",
    "    \"train_noabx\": [\"score_1\", noabx_train, None],\n",
    "    \"val_noabx\": [\"score_1\", noabx_val, None],\n",
    "    \"abx_1st\": [\"score_1\", abx_scores_flat, abx_age_at_all[\"age_1st_abx\"]],\n",
    "    \"abx_2nd\": [\"score_2\", abx_scores_flat, abx_age_at_all[\"age_2nd_abx\"]],\n",
    "    \"abx_3rd\": [\"score_3\", abx_scores_flat, abx_age_at_all[\"age_3rd_abx\"]],\n",
    "}\n",
    "\n",
    "for name, v in dic_splits_n_scores.items():\n",
    "    score_col = v[0]\n",
    "    scores = v[1]\n",
    "    abx_age_values = v[2]\n",
    "    _plot_score_over_age(scores, score_col, name, evaluation_path, abx_age_values)\n",
    "    plt.show()"
   ]
  },
  {
   "cell_type": "markdown",
   "metadata": {},
   "source": [
    "## Score overall - scatter"
   ]
  },
  {
   "cell_type": "code",
   "execution_count": null,
   "metadata": {},
   "outputs": [],
   "source": [
    "# sort both abx dataframes by increasing abx exposure in same way\n",
    "abx_scores_flat.sort_values(\n",
    "    [\n",
    "        \"abx_max_count_ever\",\n",
    "        \"max_abx_w_microbiome\",\n",
    "        \"host_id\",\n",
    "        \"day\",\n",
    "    ],\n",
    "    ascending=[True, True, True, True],\n",
    "    inplace=True,\n",
    ")\n",
    "\n",
    "# sort abx_df accordingly\n",
    "# sort abx_df in same order and remove samples that don't exist in md_df\n",
    "abx_events = pd.DataFrame()\n",
    "abx_events[\"host_id\"] = abx_scores_flat[\"host_id\"].unique()\n",
    "abx_events = pd.merge(abx_events, abx_df, on=\"host_id\", how=\"left\")\n",
    "\n",
    "assert abx_events.host_id.unique().tolist() == abx_scores_flat.host_id.unique().tolist()\n"
   ]
  },
  {
   "cell_type": "code",
   "execution_count": null,
   "metadata": {},
   "outputs": [],
   "source": [
    "dic_splits = {\n",
    "    \"train_noabx\": [\"score_1\", noabx_train, None],\n",
    "    \"val_noabx\": [\"score_1\", noabx_val, None],\n",
    "    \"abx\": [\"score_1\", abx_scores_flat, abx_events],\n",
    "}\n",
    "\n",
    "display_scatterplot_w_scores(\n",
    "    dic_splits, False, path_to_output=evaluation_path, flag=\"noabx_vs_abx\"\n",
    ")"
   ]
  },
  {
   "cell_type": "code",
   "execution_count": null,
   "metadata": {},
   "outputs": [],
   "source": [
    "dic_splits = {\n",
    "    \"abx_1st\": [\"score_1\", abx_scores_flat, abx_events],\n",
    "    \"abx_2nd\": [\"score_2\", abx_scores_flat, abx_events],\n",
    "    \"abx_3rd\": [\"score_3\", abx_scores_flat, abx_events],\n",
    "}\n",
    "\n",
    "display_scatterplot_w_scores(\n",
    "    dic_splits, False, True, path_to_output=evaluation_path, flag=\"all_abx\"\n",
    ")"
   ]
  },
  {
   "cell_type": "markdown",
   "metadata": {},
   "source": [
    "## Individual score trajectories"
   ]
  },
  {
   "cell_type": "markdown",
   "metadata": {},
   "source": [
    "### abx"
   ]
  },
  {
   "cell_type": "code",
   "execution_count": null,
   "metadata": {},
   "outputs": [],
   "source": [
    "plot_trajectory(\n",
    "    abx_scores_flat,\n",
    "    abx_events,\n",
    "    \"P015091\",\n",
    "    [\"score_1\", \"score_2\", \"score_3\"],\n",
    "    path_to_output=evaluation_path,\n",
    "    flag=\"all_scores\",\n",
    ")"
   ]
  },
  {
   "cell_type": "code",
   "execution_count": null,
   "metadata": {},
   "outputs": [],
   "source": [
    "plot_trajectory(\n",
    "    abx_scores_flat,\n",
    "    abx_events,\n",
    "    \"P000648\",\n",
    "    [\"score_1\", \"score_2\", \"score_3\"],\n",
    "    path_to_output=evaluation_path,\n",
    "    flag=\"all_scores\",\n",
    ")"
   ]
  },
  {
   "cell_type": "code",
   "execution_count": null,
   "metadata": {},
   "outputs": [],
   "source": [
    "plot_trajectory(\n",
    "    abx_scores_flat,\n",
    "    abx_events,\n",
    "    \"E004898\",\n",
    "    [\"score_1\", \"score_2\", \"score_3\"],\n",
    "    path_to_output=evaluation_path,\n",
    "    flag=\"all_scores\",\n",
    ")"
   ]
  },
  {
   "cell_type": "code",
   "execution_count": null,
   "metadata": {},
   "outputs": [],
   "source": [
    "plot_trajectory(\n",
    "    abx_scores_flat,\n",
    "    abx_events,\n",
    "    \"E021822\",\n",
    "    [\"score_1\", \"score_2\", \"score_3\"],\n",
    "    path_to_output=evaluation_path,\n",
    "    flag=\"all_scores\",\n",
    ")"
   ]
  },
  {
   "cell_type": "markdown",
   "metadata": {},
   "source": [
    "### noabx"
   ]
  },
  {
   "cell_type": "code",
   "execution_count": null,
   "metadata": {},
   "outputs": [],
   "source": [
    "plot_trajectory(\n",
    "    noabx_train,\n",
    "    None,\n",
    "    \"E035134\",\n",
    "    [\"score_1\"],\n",
    "    path_to_output=evaluation_path,\n",
    "    flag=\"noabx_score1\",\n",
    ")"
   ]
  },
  {
   "cell_type": "code",
   "execution_count": null,
   "metadata": {},
   "outputs": [],
   "source": [
    "plot_trajectory(\n",
    "    noabx_train,\n",
    "    None,\n",
    "    \"E022497\",\n",
    "    [\"score_1\"],\n",
    "    path_to_output=evaluation_path,\n",
    "    flag=\"noabx_score1\",\n",
    ")"
   ]
  }
 ],
 "metadata": {
  "kernelspec": {
   "display_name": "score_eval",
   "language": "python",
   "name": "python3"
  },
  "language_info": {
   "codemirror_mode": {
    "name": "ipython",
    "version": 3
   },
   "file_extension": ".py",
   "mimetype": "text/x-python",
   "name": "python",
   "nbconvert_exporter": "python",
   "pygments_lexer": "ipython3",
   "version": "3.13.0"
  }
 },
 "nbformat": 4,
 "nbformat_minor": 2
}
