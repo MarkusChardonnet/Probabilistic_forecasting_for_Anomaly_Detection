{
 "cells": [
  {
   "cell_type": "markdown",
   "id": "f33b77fc",
   "metadata": {},
   "source": [
    "## Imports"
   ]
  },
  {
   "cell_type": "code",
   "execution_count": 1,
   "id": "834e2f2c",
   "metadata": {},
   "outputs": [],
   "source": [
    "import pandas\n",
    "import numpy as np\n",
    "import os\n",
    "import pickle\n",
    "from scipy.stats import expon"
   ]
  },
  {
   "cell_type": "markdown",
   "id": "0792370f",
   "metadata": {},
   "source": [
    "## Dataset import"
   ]
  },
  {
   "cell_type": "code",
   "execution_count": 19,
   "id": "51fc1161",
   "metadata": {},
   "outputs": [],
   "source": [
    "dataset_name = 'ft_vat19_anomaly_v20230824_genus'\n",
    "df = pandas.read_csv('microbial_data/' + dataset_name + '.tsv',sep='\\t')\n",
    "table = np.array(df)"
   ]
  },
  {
   "cell_type": "code",
   "execution_count": 3,
   "id": "a0efc161",
   "metadata": {},
   "outputs": [
    {
     "name": "stdout",
     "output_type": "stream",
     "text": [
      "              id  age_days  host_id delivery_mode   sex geo_location_name  \\\n",
      "0     SRR8118517      56.0  E000823       vaginal  male           Finland   \n",
      "1     SRR8118530      79.0  E000823       vaginal  male           Finland   \n",
      "2     SRR8118533     121.0  E000823       vaginal  male           Finland   \n",
      "3     SRR8118576     151.0  E000823       vaginal  male           Finland   \n",
      "4     SRR8118648     173.0  E000823       vaginal  male           Finland   \n",
      "...          ...       ...      ...           ...   ...               ...   \n",
      "2483  SRR8116545     311.0  T029922      cesarean  male           Estonia   \n",
      "2484  SRR8120282     437.0  T029922      cesarean  male           Estonia   \n",
      "2485  SRR8120281     498.0  T029922      cesarean  male           Estonia   \n",
      "2486  SRR8120283     591.0  T029922      cesarean  male           Estonia   \n",
      "2487  SRR8120285     685.0  T029922      cesarean  male           Estonia   \n",
      "\n",
      "     diet_milk diet_weaning  age_months_rounded  abx_any_last_t_dmonths  ...  \\\n",
      "0           bd           no                 2.0                     NaN  ...   \n",
      "1           bd           no                 2.5                     NaN  ...   \n",
      "2           bd           no                 4.0                     NaN  ...   \n",
      "3        mixed          yes                 5.0                     NaN  ...   \n",
      "4        mixed          yes                 5.5                     NaN  ...   \n",
      "...        ...          ...                 ...                     ...  ...   \n",
      "2483       NaN          yes                10.0                     4.0  ...   \n",
      "2484       NaN          yes                14.5                     1.0  ...   \n",
      "2485       NaN          yes                16.5                     3.0  ...   \n",
      "2486       NaN          yes                19.5                     6.0  ...   \n",
      "2487       NaN          yes                22.5                     9.0  ...   \n",
      "\n",
      "      g__UCG_003  g__UCG_005  g__Veillonella  g__other_rare  g__uncultured  \\\n",
      "0       0.000000    0.000000        0.000000       0.007274       0.000000   \n",
      "1       0.000000    0.000000        0.000064       0.007255       0.000000   \n",
      "2       0.000000    0.000000        0.000000       0.006988       0.000042   \n",
      "3       0.000000    0.000000        0.000967       0.005573       0.000000   \n",
      "4       0.000000    0.000000        0.053451       0.006173       0.000000   \n",
      "...          ...         ...             ...            ...            ...   \n",
      "2483    0.000000    0.000000        0.022272       0.036715       0.000000   \n",
      "2484    0.012473    0.000000        0.006542       0.006787       0.000000   \n",
      "2485    0.001436    0.000000        0.011203       0.012830       0.000000   \n",
      "2486    0.015957    0.003561        0.029632       0.021923       0.002235   \n",
      "2487    0.000459    0.000673        0.000826       0.082336       0.000551   \n",
      "\n",
      "      g__unkn_f__Enterobacteriaceae  g__unkn_f__Lachnospiraceae  \\\n",
      "0                          0.000000                    0.000000   \n",
      "1                          0.000000                    0.000000   \n",
      "2                          0.000000                    0.000000   \n",
      "3                          0.000000                    0.000000   \n",
      "4                          0.000375                    0.000000   \n",
      "...                             ...                         ...   \n",
      "2483                       0.001417                    0.002497   \n",
      "2484                       0.000000                    0.006726   \n",
      "2485                       0.000000                    0.002489   \n",
      "2486                       0.000000                    0.011625   \n",
      "2487                       0.002540                    0.006334   \n",
      "\n",
      "      g__unkn_f__Pasteurellaceae  g__unkn_f__Ruminococcaceae  sampling_depth  \n",
      "0                       0.012123                    0.000000          8249.0  \n",
      "1                       0.004452                    0.000000         46725.0  \n",
      "2                       0.000000                    0.000000         48084.0  \n",
      "3                       0.000000                    0.000000         17586.0  \n",
      "4                       0.000000                    0.000000         34667.0  \n",
      "...                          ...                         ...             ...  \n",
      "2483                    0.000000                    0.000000         14817.0  \n",
      "2484                    0.000000                    0.000000         16355.0  \n",
      "2485                    0.000000                    0.000191         10444.0  \n",
      "2486                    0.000000                    0.000000         64863.0  \n",
      "2487                    0.000000                    0.000000         32683.0  \n",
      "\n",
      "[2488 rows x 121 columns]\n"
     ]
    }
   ],
   "source": [
    "print(df)"
   ]
  },
  {
   "cell_type": "markdown",
   "id": "a0abd7eb",
   "metadata": {},
   "source": [
    "## Pre-processing"
   ]
  },
  {
   "cell_type": "code",
   "execution_count": 4,
   "id": "d59e2f94",
   "metadata": {},
   "outputs": [
    {
     "name": "stdout",
     "output_type": "stream",
     "text": [
      "id\n",
      "age_days\n",
      "host_id\n",
      "delivery_mode\n",
      "sex\n",
      "geo_location_name\n",
      "diet_milk\n",
      "diet_weaning\n",
      "age_months_rounded\n",
      "abx_any_last_t_dmonths\n",
      "abx_any_last_dur_days\n",
      "abx_any_cumcount\n",
      "abx_any_cumdur_days\n",
      "abx_broad_last_t_dmonths\n",
      "abx_broad_last_dur_days\n",
      "abx_broad_cumcount\n",
      "abx_broad_cumdur_days\n",
      "abx_narrow_last_t_dmonths\n",
      "abx_narrow_last_dur_days\n",
      "abx_narrow_cumcount\n",
      "abx_narrow_cumdur_days\n",
      "abx_max_count_ever\n",
      "g__Actinobacillus\n",
      "g__Actinomyces\n",
      "g__Agathobacter\n",
      "g__Akkermansia\n",
      "g__Alistipes\n",
      "g__Anaerosporobacter\n",
      "g__Anaerostipes\n",
      "g__Bacteroides\n",
      "g__Barnesiella\n",
      "g__Bifidobacterium\n",
      "g__Bilophila\n",
      "g__Blautia\n",
      "g__Butyricicoccus\n",
      "g__CAG_352\n",
      "g__Campylobacter\n",
      "g__Chloroplast\n",
      "g__Christensenellaceae_R_7_group\n",
      "g__Clostridia_UCG_014\n",
      "g__Clostridia_vadinBB60_group\n",
      "g__Clostridioides\n",
      "g__Clostridium_innocuum_group\n",
      "g__Clostridium_sensu_stricto_1\n",
      "g__Colidextribacter\n",
      "g__Collinsella\n",
      "g__Coprobacillus\n",
      "g__Coprococcus\n",
      "g__DTU089\n",
      "g__Dialister\n",
      "g__Dorea\n",
      "g__Eggerthella\n",
      "g__Eisenbergiella\n",
      "g__Enterococcus\n",
      "g__Erysipelatoclostridium\n",
      "g__Erysipelotrichaceae_UCG_003\n",
      "g__Escherichia_Shigella\n",
      "g__Eubacterium_coprostanoligenes_group\n",
      "g__Eubacterium_eligens_group\n",
      "g__Eubacterium_hallii_group\n",
      "g__Eubacterium_siraeum_group\n",
      "g__Eubacterium_ventriosum_group\n",
      "g__Eubacterium_xylanophilum_group\n",
      "g__Faecalibacterium\n",
      "g__Family_XIII_AD3011_group\n",
      "g__Flavonifractor\n",
      "g__Fusicatenibacter\n",
      "g__Fusobacterium\n",
      "g__Gastranaerophilales\n",
      "g__Gemella\n",
      "g__Granulicatella\n",
      "g__Haemophilus\n",
      "g__Holdemania\n",
      "g__Hungatella\n",
      "g__Incertae_Sedis\n",
      "g__Intestinibacter\n",
      "g__Intestinimonas\n",
      "g__Lachnoclostridium\n",
      "g__Lachnospira\n",
      "g__Lachnospiraceae_FCS020_group\n",
      "g__Lachnospiraceae_ND3007_group\n",
      "g__Lachnospiraceae_NK4A136_group\n",
      "g__Lachnospiraceae_UCG_001\n",
      "g__Lachnospiraceae_UCG_004\n",
      "g__Lachnospiraceae_UCG_010\n",
      "g__Lactobacillus\n",
      "g__Lactococcus\n",
      "g__Megasphaera\n",
      "g__Monoglobus\n",
      "g__Odoribacter\n",
      "g__Oscillibacter\n",
      "g__Oscillospira\n",
      "g__Parabacteroides\n",
      "g__Parasutterella\n",
      "g__Prevotella\n",
      "g__Pseudomonas\n",
      "g__Romboutsia\n",
      "g__Roseburia\n",
      "g__Ruminococcus\n",
      "g__Ruminococcus_gauvreauii_group\n",
      "g__Ruminococcus_gnavus_group\n",
      "g__Ruminococcus_torques_group\n",
      "g__Sellimonas\n",
      "g__Streptococcus\n",
      "g__Subdoligranulum\n",
      "g__Sutterella\n",
      "g__Terrisporobacter\n",
      "g__Turicibacter\n",
      "g__Tyzzerella\n",
      "g__UBA1819\n",
      "g__UCG_002\n",
      "g__UCG_003\n",
      "g__UCG_005\n",
      "g__Veillonella\n",
      "g__other_rare\n",
      "g__uncultured\n",
      "g__unkn_f__Enterobacteriaceae\n",
      "g__unkn_f__Lachnospiraceae\n",
      "g__unkn_f__Pasteurellaceae\n",
      "g__unkn_f__Ruminococcaceae\n",
      "sampling_depth\n"
     ]
    }
   ],
   "source": [
    "cols = df.columns\n",
    "microbial_features = []\n",
    "for col in cols:\n",
    "    print(col)\n",
    "    if col[:2] == 'g_':\n",
    "        microbial_features.append(col)\n",
    "microbial_features = np.array(microbial_features)\n",
    "nb_microbial_features = len(microbial_features)\n",
    "data = np.array(df[microbial_features])"
   ]
  },
  {
   "cell_type": "code",
   "execution_count": 5,
   "id": "2f5081af",
   "metadata": {},
   "outputs": [],
   "source": [
    "sample_age_days = np.array(df[['age_days']])\n",
    "sample_age_days = sample_age_days.astype(int)\n",
    "sample_age_days_max = sample_age_days.max()\n",
    "\n",
    "sample_host = np.array(df[['host_id']]).reshape(-1)\n",
    "hosts = np.array(list(set(sample_host)))\n",
    "nb_host = len(hosts)\n",
    "\n",
    "abx_max_count_ever = np.array(df[['abx_max_count_ever']]).reshape(-1)\n",
    "abx_any_last_t_dmonths = np.array(df[['abx_any_last_t_dmonths']]).reshape(-1)"
   ]
  },
  {
   "cell_type": "markdown",
   "id": "ad52fa8f",
   "metadata": {},
   "source": [
    "## Dataset dimensions"
   ]
  },
  {
   "cell_type": "code",
   "execution_count": 6,
   "id": "32275524",
   "metadata": {},
   "outputs": [
    {
     "name": "stdout",
     "output_type": "stream",
     "text": [
      "Number of infant hosts :  255\n",
      "--> number of paths\n",
      "Number of microbial features :  98\n",
      "--> dimension\n",
      "Maximum age (in days) of an infant on which a sample was collected :  1162\n",
      "--> number of steps\n",
      "Total number of samples (among all hosts) :  2488\n",
      "--> total number of data points\n"
     ]
    }
   ],
   "source": [
    "print(\"Number of infant hosts : \", nb_host)\n",
    "print(\"--> number of paths\")\n",
    "print(\"Number of microbial features : \", nb_microbial_features)\n",
    "print(\"--> dimension\")\n",
    "print(\"Maximum age (in days) of an infant on which a sample was collected : \", sample_age_days_max)\n",
    "print(\"--> number of steps\")\n",
    "print(\"Total number of samples (among all hosts) : \", df.shape[0])\n",
    "print(\"--> total number of data points\")"
   ]
  },
  {
   "cell_type": "markdown",
   "id": "e6b50f4e",
   "metadata": {},
   "source": [
    "## Dataset Creation"
   ]
  },
  {
   "cell_type": "code",
   "execution_count": 7,
   "id": "5ba79087",
   "metadata": {},
   "outputs": [],
   "source": [
    "paths = np.zeros((nb_host,nb_microbial_features,sample_age_days_max+1), dtype=np.float32)\n",
    "observed_dates = np.zeros((nb_host,sample_age_days_max+1), dtype=np.int32)\n",
    "abx_any = np.zeros(nb_host, dtype=np.int32)\n",
    "abx_observed = np.zeros(nb_host, dtype=np.int32)"
   ]
  },
  {
   "cell_type": "code",
   "execution_count": 8,
   "id": "6d53729a",
   "metadata": {},
   "outputs": [],
   "source": [
    "for i in range(df.shape[0]):\n",
    "    idx = list(hosts).index(sample_host[i])\n",
    "    time = sample_age_days[i][0]\n",
    "    observed_dates[idx,time]=1\n",
    "    paths[idx,:,time] = data[i]\n",
    "    if abx_max_count_ever[i] > 0.:\n",
    "        abx_any[idx] = 1\n",
    "    if not np.isnan(abx_any_last_t_dmonths[i]):\n",
    "        abx_observed[idx] = 1\n",
    "nb_obs = np.sum(observed_dates, axis=1)"
   ]
  },
  {
   "cell_type": "code",
   "execution_count": 9,
   "id": "c2ccbd86",
   "metadata": {},
   "outputs": [
    {
     "name": "stdout",
     "output_type": "stream",
     "text": [
      "Number of host who took antibiotics before at least one sample was taken :  141\n",
      "Number of host who where never observed with antibiotics :  114\n"
     ]
    }
   ],
   "source": [
    "print(\"Number of host who took antibiotics before at least one sample was taken : \", abx_observed.sum())\n",
    "print(\"Number of host who where never observed with antibiotics : \", nb_host - abx_observed.sum())"
   ]
  },
  {
   "cell_type": "markdown",
   "id": "4b0e0320",
   "metadata": {},
   "source": [
    "## Estimation of paths initial values"
   ]
  },
  {
   "cell_type": "code",
   "execution_count": 10,
   "id": "74944044",
   "metadata": {},
   "outputs": [],
   "source": [
    "weight_method = \"time_neg_exponential\"\n",
    "weight_param = 100.\n",
    "times = np.arange(sample_age_days_max+1)\n",
    "if weight_method == \"time_neg_exponential\":\n",
    "    weights = expon.pdf(times, loc=0., scale=weight_param)\n",
    "\n",
    "paths_0 = np.zeros((nb_host, nb_microbial_features))\n",
    "for i in range(nb_host):\n",
    "    paths_0[i] = np.sum(paths[i] * np.tile((weights * observed_dates[i]).reshape(1,-1),(nb_microbial_features,1)),axis=1) / np.sum(weights * observed_dates[i])"
   ]
  },
  {
   "cell_type": "code",
   "execution_count": 11,
   "id": "41115667",
   "metadata": {},
   "outputs": [],
   "source": [
    "paths[:,:,0] = paths_0\n",
    "observed_dates[:,0] = 1\n",
    "nb_obs = np.sum(observed_dates, axis=1)"
   ]
  },
  {
   "cell_type": "markdown",
   "id": "714ca82a",
   "metadata": {},
   "source": [
    "## Checks"
   ]
  },
  {
   "cell_type": "code",
   "execution_count": 12,
   "id": "c7f93c83",
   "metadata": {},
   "outputs": [
    {
     "name": "stdout",
     "output_type": "stream",
     "text": [
      "Check whether the time of samples is more precise than days :\n",
      "--> No\n"
     ]
    }
   ],
   "source": [
    "print(\"Check whether the time of samples is more precise than days :\")\n",
    "# Check if 'age_days' values are just int\n",
    "if np.max(np.abs(np.array(df[['age_days']]) - np.array(df[['age_days']]).astype(int))) > 0:\n",
    "    print(\"--> Yes\")\n",
    "else:\n",
    "    print(\"--> No\")"
   ]
  },
  {
   "cell_type": "code",
   "execution_count": 13,
   "id": "e3d62858",
   "metadata": {},
   "outputs": [
    {
     "name": "stdout",
     "output_type": "stream",
     "text": [
      "Check if the sum of features is 1 for each data point : \n",
      "--> Yes\n"
     ]
    }
   ],
   "source": [
    "print(\"Check if the sum of features is 1 for each data point : \")\n",
    "if np.max(np.abs(np.sum(data, axis=1)-1)) > 1e-10:\n",
    "    print(\"--> No\")\n",
    "else:\n",
    "    print(\"--> Yes\")"
   ]
  },
  {
   "cell_type": "code",
   "execution_count": 14,
   "id": "72fc31ac",
   "metadata": {},
   "outputs": [
    {
     "name": "stdout",
     "output_type": "stream",
     "text": [
      "Check if the sum of features is 1 for each estimated S0 : \n",
      "--> Yes\n"
     ]
    }
   ],
   "source": [
    "print(\"Check if the sum of features is 1 for each estimated S0 : \")\n",
    "if np.max(np.abs(np.sum(paths_0, axis=1)-1)) > 1e-5:\n",
    "    print(\"--> No\")\n",
    "else:\n",
    "    print(\"--> Yes\")"
   ]
  },
  {
   "cell_type": "code",
   "execution_count": 15,
   "id": "c1c7a087",
   "metadata": {},
   "outputs": [
    {
     "name": "stdout",
     "output_type": "stream",
     "text": [
      "Minimal Time-difference (in days) : \n",
      "3.0\n"
     ]
    }
   ],
   "source": [
    "print(\"Minimal Time-difference (in days) : \")\n",
    "min_dt_per_host = np.empty(nb_host)\n",
    "min_dt_per_host.fill(np.inf)\n",
    "for i in range(nb_host):\n",
    "    times = np.where(observed_dates[i] == 1.)[0]\n",
    "    if len(times) > 1:\n",
    "        min_dt_per_host[i] = np.min(times[1:] - times[:-1])\n",
    "# print(min_dt_per_host)\n",
    "print(np.min(min_dt_per_host))"
   ]
  },
  {
   "cell_type": "markdown",
   "id": "dfbceac9",
   "metadata": {},
   "source": [
    "## Paths"
   ]
  },
  {
   "cell_type": "code",
   "execution_count": 16,
   "id": "b585c3e4",
   "metadata": {},
   "outputs": [],
   "source": [
    "dataset_path_all = dataset_name + os.sep + \"all\" + os.sep\n",
    "dataset_path_no_abx = dataset_name + os.sep + \"no_abx\" + os.sep\n",
    "dataset_path_w_abx = dataset_name + os.sep + \"with_abx\" + os.sep\n",
    "if not os.path.isdir(dataset_name):\n",
    "    os.mkdir(dataset_name)\n",
    "if not os.path.isdir(dataset_path_all):\n",
    "    os.mkdir(dataset_path_all)\n",
    "if not os.path.isdir(dataset_path_no_abx):\n",
    "    os.mkdir(dataset_path_no_abx)\n",
    "if not os.path.isdir(dataset_path_w_abx):\n",
    "    os.mkdir(dataset_path_w_abx)"
   ]
  },
  {
   "cell_type": "markdown",
   "id": "adfab83c",
   "metadata": {},
   "source": [
    "## Saving files"
   ]
  },
  {
   "cell_type": "code",
   "execution_count": 17,
   "id": "e28bea57",
   "metadata": {},
   "outputs": [],
   "source": [
    "with open(dataset_path_all + 'data.npy', 'wb') as f:\n",
    "    np.save(f, paths)\n",
    "    np.save(f, observed_dates)\n",
    "    np.save(f, nb_obs)\n",
    "with open(dataset_path_no_abx + 'data.npy', 'wb') as f:\n",
    "    np.save(f, paths[~abx_observed])\n",
    "    np.save(f, observed_dates[~abx_observed])\n",
    "    np.save(f, nb_obs[~abx_observed])\n",
    "with open(dataset_path_w_abx + 'data.npy', 'wb') as f:\n",
    "    np.save(f, paths[abx_observed])\n",
    "    np.save(f, observed_dates[abx_observed])\n",
    "    np.save(f, nb_obs[abx_observed])"
   ]
  },
  {
   "cell_type": "code",
   "execution_count": 18,
   "id": "03431593",
   "metadata": {},
   "outputs": [],
   "source": [
    "metadata_all = open(dataset_path_all + \"metadata.txt\", \"wb\")\n",
    "metadata_no_abx = open(dataset_path_no_abx + \"metadata.txt\", \"wb\")\n",
    "metadata_w_abx = open(dataset_path_w_abx + \"metadata.txt\", \"wb\")\n",
    "\n",
    "metadata_dict = {\"S0\": None,\n",
    "           \"dimension\": nb_microbial_features,\n",
    "           \"dt\": 1. / sample_age_days_max,\n",
    "           \"maturity\": 1.,\n",
    "           \"model_name\": \"microbial_genus\",\n",
    "           \"nb_paths\": nb_host,\n",
    "           \"nb_steps\": sample_age_days_max,\n",
    "             \"period\": 1.}\n",
    "\n",
    "pickle.dump(metadata_dict, metadata_all)\n",
    "pickle.dump(metadata_dict, metadata_no_abx)\n",
    "pickle.dump(metadata_dict, metadata_w_abx)\n",
    "\n",
    "metadata_all.close()\n",
    "metadata_no_abx.close()\n",
    "metadata_w_abx.close()"
   ]
  },
  {
   "cell_type": "code",
   "execution_count": null,
   "id": "235efb7b",
   "metadata": {},
   "outputs": [],
   "source": []
  }
 ],
 "metadata": {
  "kernelspec": {
   "display_name": "Python 3 (ipykernel)",
   "language": "python",
   "name": "python3"
  },
  "language_info": {
   "codemirror_mode": {
    "name": "ipython",
    "version": 3
   },
   "file_extension": ".py",
   "mimetype": "text/x-python",
   "name": "python",
   "nbconvert_exporter": "python",
   "pygments_lexer": "ipython3",
   "version": "3.9.7"
  }
 },
 "nbformat": 4,
 "nbformat_minor": 5
}
