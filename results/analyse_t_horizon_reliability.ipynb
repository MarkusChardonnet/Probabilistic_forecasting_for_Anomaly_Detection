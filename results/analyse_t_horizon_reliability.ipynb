{
 "cells": [
  {
   "cell_type": "markdown",
   "metadata": {},
   "source": [
    "# Notebook to infer reliable time horizon\n",
    "\n",
    "To run this notebook you need to create and activate the following conda environment:\n",
    "\n",
    "```\n",
    "conda create --name score_eval numpy pandas matplotlib seaborn scipy ipython ipykernel -y\n",
    "conda activate score_eval\n",
    "pip install -e .\n",
    "```\n"
   ]
  },
  {
   "cell_type": "markdown",
   "metadata": {},
   "source": [
    "## Setup"
   ]
  },
  {
   "cell_type": "code",
   "execution_count": 1,
   "metadata": {},
   "outputs": [],
   "source": [
    "import os\n",
    "\n",
    "import matplotlib.pyplot as plt\n",
    "import numpy as np\n",
    "import pandas as pd\n",
    "\n",
    "from src.utils_eval_score import (\n",
    "    _get_ordinal_suffix,\n",
    "    _plot_score_after_nth_abx_exposure,\n",
    "    get_cutoff_value_sample_sizes,\n",
    "    get_scores_n_abx_info,\n",
    ")\n",
    "from src.utils_t_horizon import (\n",
    "    display_two_distributions,\n",
    "    enrich_scores,\n",
    "    plot_cutoff_date_distribution,\n",
    "    plot_cutoff_host_id_distribution,\n",
    "    sample_from_each_group,\n",
    "    sample_unique_host_ids,\n",
    "    transform_cutoff_scores,\n",
    ")\n",
    "\n",
    "%load_ext autoreload\n",
    "%autoreload 2\n",
    "%matplotlib inline\n",
    "\n",
    "# avg. number of days per month\n",
    "DAYS_PER_MONTH = 30.437"
   ]
  },
  {
   "cell_type": "markdown",
   "metadata": {},
   "source": [
    "USER input: define the inferred model and linked datasets to evaluate here:"
   ]
  },
  {
   "cell_type": "code",
   "execution_count": 2,
   "metadata": {},
   "outputs": [],
   "source": [
    "#### USER INPUT START\n",
    "# name of the model\n",
    "model_name = \"saved_models_microbial_novel_alpha_div/id-56\"\n",
    "# which model version to evaluate: \"best\" or \"last\"\n",
    "point_to_evaluate = \"best\"\n",
    "\n",
    "# name of feature dataset used for model\n",
    "ft_name = \"ft_vat19_anomaly_v20240806_entero_genus\"\n",
    "# name of abx time-series used for model\n",
    "abx_ts_name = \"ts_vat19_abx_v20240806\"\n",
    "\n",
    "# limit evaluation to time range up to this many months (if None no limit is set\n",
    "# and all scores are evaluated)\n",
    "limit_months = 24.0\n",
    "\n",
    "# whether to group samples prior to cutoff in analysis\n",
    "group_samples = False\n",
    "\n",
    "# how many samples prior and after cutoff to consider\n",
    "min_samples = -3.0\n",
    "max_samples = 24.0\n",
    "\n",
    "# whether to filter noabx score samples by having at least 1 obs prior to cutoff\n",
    "no_filter = True\n",
    "#### USER INPUT END"
   ]
  },
  {
   "cell_type": "markdown",
   "metadata": {},
   "source": [
    "## Prepare data"
   ]
  },
  {
   "cell_type": "code",
   "execution_count": 3,
   "metadata": {},
   "outputs": [],
   "source": [
    "cutoff_scores_path = (\n",
    "    f\"../data/{model_name}/anomaly_detection/reliability_eval-val-noabx/\"\n",
    ")\n",
    "evaluation_path = f\"../data/{model_name}/anomaly_detection/reliability_evaluation/\"\n",
    "\n",
    "if not os.path.exists(evaluation_path):\n",
    "    os.makedirs(evaluation_path)\n",
    "\n",
    "abx_scores_path = f\"../data/{model_name}/anomaly_detection/scores_{point_to_evaluate}/\""
   ]
  },
  {
   "cell_type": "markdown",
   "metadata": {},
   "source": [
    "### Get abx scores"
   ]
  },
  {
   "cell_type": "code",
   "execution_count": 4,
   "metadata": {},
   "outputs": [],
   "source": [
    "noabx_train, noabx_val, abx_scores_flat, abx_df, abx_age_at_all = get_scores_n_abx_info(\n",
    "    abx_scores_path, ft_name, limit_months, abx_ts_name, no_filter=no_filter\n",
    ")"
   ]
  },
  {
   "cell_type": "markdown",
   "metadata": {},
   "source": [
    "### Get noabx cutoff scores"
   ]
  },
  {
   "cell_type": "code",
   "execution_count": 5,
   "metadata": {},
   "outputs": [
    {
     "data": {
      "text/html": [
       "<div>\n",
       "<style scoped>\n",
       "    .dataframe tbody tr th:only-of-type {\n",
       "        vertical-align: middle;\n",
       "    }\n",
       "\n",
       "    .dataframe tbody tr th {\n",
       "        vertical-align: top;\n",
       "    }\n",
       "\n",
       "    .dataframe thead th {\n",
       "        text-align: right;\n",
       "    }\n",
       "</style>\n",
       "<table border=\"1\" class=\"dataframe\">\n",
       "  <thead>\n",
       "    <tr style=\"text-align: right;\">\n",
       "      <th></th>\n",
       "      <th>host_id</th>\n",
       "      <th>abx</th>\n",
       "      <th>use_obs_until_day</th>\n",
       "      <th>day</th>\n",
       "      <th>score</th>\n",
       "      <th>month_bin</th>\n",
       "      <th>month5_bin</th>\n",
       "      <th>cutoff_month</th>\n",
       "      <th>days_since_last_obs_before_cutoff</th>\n",
       "      <th>nb_obs_before_cutoff</th>\n",
       "      <th>days_since_cutoff</th>\n",
       "      <th>months_since_cutoff</th>\n",
       "    </tr>\n",
       "  </thead>\n",
       "  <tbody>\n",
       "    <tr>\n",
       "      <th>0</th>\n",
       "      <td>E007944</td>\n",
       "      <td>False</td>\n",
       "      <td>0.0</td>\n",
       "      <td>52</td>\n",
       "      <td>1.399166</td>\n",
       "      <td>2</td>\n",
       "      <td>1.5</td>\n",
       "      <td>0</td>\n",
       "      <td>NaN</td>\n",
       "      <td>0</td>\n",
       "      <td>52.0</td>\n",
       "      <td>2.0</td>\n",
       "    </tr>\n",
       "    <tr>\n",
       "      <th>1</th>\n",
       "      <td>E007944</td>\n",
       "      <td>False</td>\n",
       "      <td>0.0</td>\n",
       "      <td>85</td>\n",
       "      <td>4.708012</td>\n",
       "      <td>3</td>\n",
       "      <td>3.0</td>\n",
       "      <td>0</td>\n",
       "      <td>NaN</td>\n",
       "      <td>0</td>\n",
       "      <td>85.0</td>\n",
       "      <td>3.0</td>\n",
       "    </tr>\n",
       "    <tr>\n",
       "      <th>2</th>\n",
       "      <td>E007944</td>\n",
       "      <td>False</td>\n",
       "      <td>0.0</td>\n",
       "      <td>113</td>\n",
       "      <td>15.150803</td>\n",
       "      <td>4</td>\n",
       "      <td>3.5</td>\n",
       "      <td>0</td>\n",
       "      <td>NaN</td>\n",
       "      <td>0</td>\n",
       "      <td>113.0</td>\n",
       "      <td>4.0</td>\n",
       "    </tr>\n",
       "    <tr>\n",
       "      <th>3</th>\n",
       "      <td>E007944</td>\n",
       "      <td>False</td>\n",
       "      <td>0.0</td>\n",
       "      <td>144</td>\n",
       "      <td>19.478883</td>\n",
       "      <td>5</td>\n",
       "      <td>4.5</td>\n",
       "      <td>0</td>\n",
       "      <td>NaN</td>\n",
       "      <td>0</td>\n",
       "      <td>144.0</td>\n",
       "      <td>5.0</td>\n",
       "    </tr>\n",
       "    <tr>\n",
       "      <th>4</th>\n",
       "      <td>E007944</td>\n",
       "      <td>False</td>\n",
       "      <td>0.0</td>\n",
       "      <td>174</td>\n",
       "      <td>23.024667</td>\n",
       "      <td>6</td>\n",
       "      <td>5.5</td>\n",
       "      <td>0</td>\n",
       "      <td>NaN</td>\n",
       "      <td>0</td>\n",
       "      <td>174.0</td>\n",
       "      <td>6.0</td>\n",
       "    </tr>\n",
       "  </tbody>\n",
       "</table>\n",
       "</div>"
      ],
      "text/plain": [
       "   host_id    abx  use_obs_until_day  day      score  month_bin  month5_bin  \\\n",
       "0  E007944  False                0.0   52   1.399166          2         1.5   \n",
       "1  E007944  False                0.0   85   4.708012          3         3.0   \n",
       "2  E007944  False                0.0  113  15.150803          4         3.5   \n",
       "3  E007944  False                0.0  144  19.478883          5         4.5   \n",
       "4  E007944  False                0.0  174  23.024667          6         5.5   \n",
       "\n",
       "   cutoff_month  days_since_last_obs_before_cutoff  nb_obs_before_cutoff  \\\n",
       "0             0                                NaN                     0   \n",
       "1             0                                NaN                     0   \n",
       "2             0                                NaN                     0   \n",
       "3             0                                NaN                     0   \n",
       "4             0                                NaN                     0   \n",
       "\n",
       "   days_since_cutoff  months_since_cutoff  \n",
       "0               52.0                  2.0  \n",
       "1               85.0                  3.0  \n",
       "2              113.0                  4.0  \n",
       "3              144.0                  5.0  \n",
       "4              174.0                  6.0  "
      ]
     },
     "execution_count": 5,
     "metadata": {},
     "output_type": "execute_result"
    }
   ],
   "source": [
    "# get noabx cutoff scores\n",
    "c_scores_list = []\n",
    "i_values = list(range(0, 1141, 30))\n",
    "\n",
    "for i in i_values:\n",
    "    c_scores = pd.read_csv(f\"{cutoff_scores_path}val_noabx_ad_scores_{i}_coord-0.csv\")\n",
    "\n",
    "    # transform scores from wide to long format\n",
    "    c_scores_t = transform_cutoff_scores(c_scores, DAYS_PER_MONTH)\n",
    "\n",
    "    # filter scores\n",
    "    c_scores_t = enrich_scores(c_scores_t)\n",
    "\n",
    "    # append each cutoff date to each other\n",
    "    c_scores_list.append(c_scores_t)\n",
    "\n",
    "c_scores_all = pd.concat(c_scores_list, ignore_index=True)\n",
    "\n",
    "if limit_months is not None:\n",
    "    c_scores_all = c_scores_all[\n",
    "        np.logical_and(\n",
    "            c_scores_all[\"month5_bin\"] <= limit_months,\n",
    "            c_scores_all[\"cutoff_month\"] < limit_months,\n",
    "        )\n",
    "    ]\n",
    "\n",
    "c_scores_all.head()"
   ]
  },
  {
   "cell_type": "code",
   "execution_count": 6,
   "metadata": {},
   "outputs": [
    {
     "data": {
      "image/png": "[encoded data removed]",
      "text/plain": [
       "<Figure size 2000x500 with 1 Axes>"
      ]
     },
     "metadata": {},
     "output_type": "display_data"
    }
   ],
   "source": [
    "# plot before filtering:\n",
    "plot_cutoff_date_distribution(c_scores_all, \"- before filtering\")\n",
    "\n",
    "# filter scores\n",
    "if not no_filter:\n",
    "    # ! filter: at least one observation must be present before the cutoff\n",
    "    c_scores_all_f = c_scores_all[c_scores_all[\"nb_obs_before_cutoff\"] > 0].copy()\n",
    "    # plot after filtering\n",
    "    plot_cutoff_date_distribution(c_scores_all_f, \"- after filtering\")\n",
    "else:\n",
    "    c_scores_all_f = c_scores_all.copy()"
   ]
  },
  {
   "cell_type": "code",
   "execution_count": 7,
   "metadata": {},
   "outputs": [
    {
     "data": {
      "text/plain": [
       "(4496, 12)"
      ]
     },
     "execution_count": 7,
     "metadata": {},
     "output_type": "execute_result"
    }
   ],
   "source": [
    "# filter by months_since_cutoff to be in min_ max_samples range\n",
    "c_scores_subset_f = c_scores_all_f.loc[\n",
    "    np.logical_and(\n",
    "        c_scores_all_f[\"months_since_cutoff\"] >= min_samples,\n",
    "        c_scores_all_f[\"months_since_cutoff\"] <= max_samples,\n",
    "    ),\n",
    "    :,\n",
    "]\n",
    "\n",
    "c_scores_subset_f.shape"
   ]
  },
  {
   "cell_type": "code",
   "execution_count": 8,
   "metadata": {},
   "outputs": [
    {
     "data": {
      "text/plain": [
       "28"
      ]
     },
     "execution_count": 8,
     "metadata": {},
     "output_type": "execute_result"
    }
   ],
   "source": [
    "c_scores_subset_f.host_id.nunique()"
   ]
  },
  {
   "cell_type": "markdown",
   "metadata": {},
   "source": [
    "## Visualize cutoffs - same \"cutoff\" subset as for 1st/2nd/3rd abx scores"
   ]
  },
  {
   "cell_type": "code",
   "execution_count": 9,
   "metadata": {},
   "outputs": [
    {
     "name": "stdout",
     "output_type": "stream",
     "text": [
      "0\n",
      "1\n",
      "2\n",
      "3\n",
      "4\n",
      "5\n",
      "6\n",
      "7\n",
      "8\n",
      "9\n",
      "10\n",
      "11\n",
      "12\n"
     ]
    },
    {
     "ename": "ValueError",
     "evalue": "Not enough unique host_ids to sample for cutoff_month 12. Needed 4, but only 3 unique host_ids available.",
     "output_type": "error",
     "traceback": [
      "\u001b[0;31m---------------------------------------------------------------------------\u001b[0m",
      "\u001b[0;31mValueError\u001b[0m                                Traceback (most recent call last)",
      "Cell \u001b[0;32mIn[9], line 12\u001b[0m\n\u001b[1;32m      5\u001b[0m cutoff_values, sample_sizes \u001b[38;5;241m=\u001b[39m get_cutoff_value_sample_sizes(\n\u001b[1;32m      6\u001b[0m     abx_scores_flat, abx_df, n, min_samples, max_samples, group_samples\n\u001b[1;32m      7\u001b[0m )\n\u001b[1;32m      9\u001b[0m \u001b[38;5;66;03m# ! stratify to ensure unique hosts are used per subsampled cutoff\u001b[39;00m\n\u001b[1;32m     10\u001b[0m \u001b[38;5;66;03m# ! too few unique hosts present in validation set!\u001b[39;00m\n\u001b[1;32m     11\u001b[0m \u001b[38;5;66;03m# ! number of cutoffs for n=1: , number of unique hosts in val: 28\u001b[39;00m\n\u001b[0;32m---> 12\u001b[0m cutoff_host_mapping_subset \u001b[38;5;241m=\u001b[39m \u001b[43msample_unique_host_ids\u001b[49m\u001b[43m(\u001b[49m\u001b[43mcutoff_host_mapping\u001b[49m\u001b[43m,\u001b[49m\u001b[43m \u001b[49m\u001b[43msample_sizes\u001b[49m\u001b[43m,\u001b[49m\u001b[43m \u001b[49m\u001b[43mseed\u001b[49m\u001b[38;5;241;43m=\u001b[39;49m\u001b[38;5;241;43m42\u001b[39;49m\u001b[43m)\u001b[49m\n\u001b[1;32m     13\u001b[0m \u001b[38;5;66;03m# # subsample in cutoff_host_mapping by sample_sizes:\u001b[39;00m\n\u001b[1;32m     14\u001b[0m \u001b[38;5;66;03m# cutoff_host_mapping_subset = (\u001b[39;00m\n\u001b[1;32m     15\u001b[0m \u001b[38;5;66;03m#     cutoff_host_mapping.groupby(\"cutoff_month\", group_keys=False)\u001b[39;00m\n\u001b[0;32m   (...)\u001b[0m\n\u001b[1;32m     22\u001b[0m \u001b[38;5;66;03m# VERIFY distributions: Now, cutoff_host_mapping_subset has the same\u001b[39;00m\n\u001b[1;32m     23\u001b[0m \u001b[38;5;66;03m# cutoff_month distribution as in cutoff_values\u001b[39;00m\n\u001b[1;32m     24\u001b[0m display_two_distributions(\n\u001b[1;32m     25\u001b[0m     orig_values \u001b[38;5;241m=\u001b[39m cutoff_values,\n\u001b[1;32m     26\u001b[0m     sampled_values \u001b[38;5;241m=\u001b[39m cutoff_host_mapping_subset[\u001b[38;5;124m\"\u001b[39m\u001b[38;5;124mcutoff_month\u001b[39m\u001b[38;5;124m\"\u001b[39m]\u001b[38;5;241m.\u001b[39mvalues\n\u001b[1;32m     27\u001b[0m )\n",
      "File \u001b[0;32m~/Documents/projects/14_LM1/NJODE/Probabilistic_forecasting_for_Anomaly_Detection/src/utils_t_horizon.py:146\u001b[0m, in \u001b[0;36msample_unique_host_ids\u001b[0;34m(cutoff_host_mapping, sample_sizes, seed)\u001b[0m\n\u001b[1;32m    143\u001b[0m available_group \u001b[38;5;241m=\u001b[39m group[\u001b[38;5;241m~\u001b[39mgroup[\u001b[38;5;124m'\u001b[39m\u001b[38;5;124mhost_id\u001b[39m\u001b[38;5;124m'\u001b[39m]\u001b[38;5;241m.\u001b[39misin(selected_host_ids)]\n\u001b[1;32m    145\u001b[0m \u001b[38;5;28;01mif\u001b[39;00m \u001b[38;5;28mlen\u001b[39m(available_group) \u001b[38;5;241m<\u001b[39m n:\n\u001b[0;32m--> 146\u001b[0m     \u001b[38;5;28;01mraise\u001b[39;00m \u001b[38;5;167;01mValueError\u001b[39;00m(\n\u001b[1;32m    147\u001b[0m         \u001b[38;5;124mf\u001b[39m\u001b[38;5;124m\"\u001b[39m\u001b[38;5;124mNot enough unique host_ids to sample for cutoff_month \u001b[39m\u001b[38;5;132;01m{\u001b[39;00mgroup_name\u001b[38;5;132;01m}\u001b[39;00m\u001b[38;5;124m. \u001b[39m\u001b[38;5;124m\"\u001b[39m\n\u001b[1;32m    148\u001b[0m         \u001b[38;5;124mf\u001b[39m\u001b[38;5;124m\"\u001b[39m\u001b[38;5;124mNeeded \u001b[39m\u001b[38;5;132;01m{\u001b[39;00mn\u001b[38;5;132;01m}\u001b[39;00m\u001b[38;5;124m, but only \u001b[39m\u001b[38;5;132;01m{\u001b[39;00m\u001b[38;5;28mlen\u001b[39m(available_group)\u001b[38;5;132;01m}\u001b[39;00m\u001b[38;5;124m unique host_ids available.\u001b[39m\u001b[38;5;124m\"\u001b[39m\n\u001b[1;32m    149\u001b[0m     )\n\u001b[1;32m    151\u001b[0m sampled_group \u001b[38;5;241m=\u001b[39m available_group\u001b[38;5;241m.\u001b[39msample(n\u001b[38;5;241m=\u001b[39mn, random_state\u001b[38;5;241m=\u001b[39mseed)\n\u001b[1;32m    152\u001b[0m sampled_frames\u001b[38;5;241m.\u001b[39mappend(sampled_group)\n",
      "\u001b[0;31mValueError\u001b[0m: Not enough unique host_ids to sample for cutoff_month 12. Needed 4, but only 3 unique host_ids available."
     ]
    }
   ],
   "source": [
    "# get all host's cutoffs to choose from\n",
    "cutoff_host_mapping = c_scores_subset_f[[\"host_id\", \"cutoff_month\"]].drop_duplicates()\n",
    "\n",
    "for n in [1,2,3]:\n",
    "    cutoff_values, sample_sizes = get_cutoff_value_sample_sizes(\n",
    "        abx_scores_flat, abx_df, n, min_samples, max_samples, group_samples\n",
    "    )\n",
    "\n",
    "    # ! stratify to ensure unique hosts are used per subsampled cutoff\n",
    "    # ! too few unique hosts present in validation set!\n",
    "    # ! number of cutoffs for n=1: 37, number of unique hosts in val: 28\n",
    "    cutoff_host_mapping_subset = sample_unique_host_ids(cutoff_host_mapping, sample_sizes, seed=42)\n",
    "    # # subsample in cutoff_host_mapping by sample_sizes:\n",
    "    # cutoff_host_mapping_subset = (\n",
    "    #     cutoff_host_mapping.groupby(\"cutoff_month\", group_keys=False)\n",
    "    #     .apply(\n",
    "    #         sample_from_each_group, sample_sizes=sample_sizes, seed=42, include_groups=True\n",
    "    #     )\n",
    "    #     .reset_index(drop=True)\n",
    "    # )\n",
    "\n",
    "    # VERIFY distributions: Now, cutoff_host_mapping_subset has the same\n",
    "    # cutoff_month distribution as in cutoff_values\n",
    "    display_two_distributions(\n",
    "        orig_values = cutoff_values,\n",
    "        sampled_values = cutoff_host_mapping_subset[\"cutoff_month\"].values\n",
    "    )\n",
    "\n",
    "    # get only scores from cutoff_host_mapping_subset to plot\n",
    "    sampled_subset_nth = pd.merge(\n",
    "        c_scores_subset_f,\n",
    "        cutoff_host_mapping_subset[[\"host_id\", \"cutoff_month\"]],\n",
    "        on=[\"host_id\", \"cutoff_month\"],\n",
    "        how=\"inner\",\n",
    "    )\n",
    "    assert (\n",
    "        sampled_subset_nth.host_id.nunique() == cutoff_host_mapping_subset.host_id.nunique()\n",
    "    )\n",
    "\n",
    "    _plot_score_after_nth_abx_exposure(\n",
    "        sampled_subset_nth,\n",
    "        x_axis=\"months_since_cutoff\",\n",
    "        y_axis=\"score\",\n",
    "        n=0,\n",
    "        path_to_save=evaluation_path,\n",
    "        flag=f\"noabx_{n}matched_scores\",\n",
    "        tag=f\"with {n}-{_get_ordinal_suffix(n)} abx matched cutoffs\",\n",
    "        min_samples=min_samples,\n",
    "        max_samples=max_samples,\n",
    "        grouped_samples=group_samples,\n",
    "        uniqueness_var_ls=[\"use_obs_until_day\"],\n",
    "    )"
   ]
  },
  {
   "cell_type": "markdown",
   "metadata": {},
   "source": [
    "## Visualize all cutoffs grouped by cutoff value"
   ]
  },
  {
   "cell_type": "code",
   "execution_count": null,
   "metadata": {},
   "outputs": [],
   "source": [
    "all_cutoffs = c_scores_subset_f.use_obs_until_day.unique().tolist()\n",
    "\n",
    "\n",
    "for cutoff in all_cutoffs:\n",
    "    c_scores_subset_f_ss = c_scores_subset_f[\n",
    "        c_scores_subset_f[\"use_obs_until_day\"] == cutoff\n",
    "    ].copy()\n",
    "    print(cutoff)\n",
    "    _plot_score_after_nth_abx_exposure(\n",
    "        c_scores_subset_f_ss,\n",
    "        x_axis=\"months_since_cutoff\",\n",
    "        y_axis=\"score\",\n",
    "        n=0,\n",
    "        path_to_save=evaluation_path,\n",
    "        flag=f\"noabx_cutoff{int(cutoff)}_scores\",\n",
    "        tag=f\"with cutoff={cutoff}\",\n",
    "        min_samples=min_samples,\n",
    "        max_samples=max_samples,\n",
    "        grouped_samples=group_samples,\n",
    "    )"
   ]
  },
  {
   "cell_type": "markdown",
   "metadata": {},
   "source": [
    "## Visualize all cutoffs pooled"
   ]
  },
  {
   "cell_type": "code",
   "execution_count": null,
   "metadata": {},
   "outputs": [],
   "source": [
    "_plot_score_after_nth_abx_exposure(\n",
    "    c_scores_subset_f,\n",
    "    x_axis=\"months_since_cutoff\",\n",
    "    y_axis=\"score\",\n",
    "    n=0,\n",
    "    path_to_save=evaluation_path,\n",
    "    flag=\"noabx_cutoff_all_scores\",\n",
    "    tag=\"all cutoffs\",\n",
    "    min_samples=min_samples,\n",
    "    max_samples=max_samples,\n",
    "    grouped_samples=group_samples,\n",
    "    uniqueness_var_ls=[\"use_obs_until_day\"],\n",
    ")\n"
   ]
  }
 ],
 "metadata": {
  "kernelspec": {
   "display_name": "score_eval",
   "language": "python",
   "name": "python3"
  },
  "language_info": {
   "codemirror_mode": {
    "name": "ipython",
    "version": 3
   },
   "file_extension": ".py",
   "mimetype": "text/x-python",
   "name": "python",
   "nbconvert_exporter": "python",
   "pygments_lexer": "ipython3",
   "version": "3.12.4"
  }
 },
 "nbformat": 4,
 "nbformat_minor": 2
}
