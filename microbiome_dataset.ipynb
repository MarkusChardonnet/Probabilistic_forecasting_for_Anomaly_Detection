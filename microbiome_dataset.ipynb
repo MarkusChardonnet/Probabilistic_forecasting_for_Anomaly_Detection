{
 "cells": [
  {
   "cell_type": "markdown",
   "id": "f33b77fc",
   "metadata": {},
   "source": [
    "## Imports"
   ]
  },
  {
   "cell_type": "code",
   "execution_count": null,
   "id": "834e2f2c",
   "metadata": {},
   "outputs": [
    {
     "ename": "",
     "evalue": "",
     "output_type": "error",
     "traceback": [
      "\u001b[1;31mRunning cells with 'pbforecast' requires the ipykernel package.\n",
      "\u001b[1;31mRun the following command to install 'ipykernel' into the Python environment. \n",
      "\u001b[1;31mCommand: 'conda install -n pbforecast ipykernel --update-deps --force-reinstall'"
     ]
    }
   ],
   "source": [
    "import pandas\n",
    "import numpy as np\n",
    "import os\n",
    "import json\n",
    "import pickle\n",
    "from scipy.stats import expon\n",
    "from sklearn.model_selection import train_test_split"
   ]
  },
  {
   "cell_type": "markdown",
   "id": "0792370f",
   "metadata": {},
   "source": [
    "## Dataset import"
   ]
  },
  {
   "cell_type": "code",
   "execution_count": null,
   "id": "51fc1161",
   "metadata": {},
   "outputs": [
    {
     "name": "stdout",
     "output_type": "stream",
     "text": [
      "\n"
     ]
    },
    {
     "name": "stderr",
     "output_type": "stream",
     "text": [
      "  ***   syntax error, unexpected '+', expecting variable name: \n",
      "  ***   ...csv('data/original_data/'+dataset+'.tsv',sep='\n",
      "  ***                               ^---------------------"
     ]
    }
   ],
   "source": [
    "dataset = 'ft_vat19_anomaly_v20230824_genus'\n",
    "df = pandas.read_csv('data/original_data/' + dataset + '.tsv',sep='\\t')"
   ]
  },
  {
   "cell_type": "code",
   "execution_count": null,
   "id": "a0efc161",
   "metadata": {},
   "outputs": [
    {
     "name": "stdout",
     "output_type": "stream",
     "text": [
      "df\n"
     ]
    }
   ],
   "source": [
    "print(df)"
   ]
  },
  {
   "cell_type": "markdown",
   "id": "a0abd7eb",
   "metadata": {},
   "source": [
    "## Pre-processing"
   ]
  },
  {
   "cell_type": "markdown",
   "id": "b09c687f",
   "metadata": {},
   "source": [
    "Features"
   ]
  },
  {
   "cell_type": "code",
   "execution_count": null,
   "id": "d59e2f94",
   "metadata": {},
   "outputs": [
    {
     "name": "stderr",
     "output_type": "stream",
     "text": [
      "  ***   at top-level: cols=df.columns\n",
      "  ***                         ^-------\n",
      "  ***   not a function in function call"
     ]
    }
   ],
   "source": [
    "cols = df.columns\n",
    "microbial_features = []\n",
    "abx_features = []\n",
    "static_features = [\"delivery_mode\", \"sex\", \"geo_location_name\"]\n",
    "dynamic_features = [\"delivery_mode\", \"sex\", \"geo_location_name\", \"diet_milk\", \"diet_weaning\"]\n",
    "# dynamic_features = [\"delivery_mode\", \"diet_milk\", \"diet_weaning\"]\n",
    "\n",
    "for col in cols:\n",
    "    print(col)\n",
    "    if col[:2] == 'g_':\n",
    "        microbial_features.append(col)\n",
    "    if len(col) > 4 and col[:4] == 'abx_':\n",
    "        abx_features.append(col)\n",
    "        \n",
    "microbial_features = np.array(microbial_features)\n",
    "nb_microbial_features = len(microbial_features)\n",
    "static_features = np.array(static_features)\n",
    "nb_static_features = len(static_features)\n",
    "dynamic_features = np.array(dynamic_features)\n",
    "nb_dynamic_features = len(dynamic_features)\n",
    "abx_features = np.array(abx_features)\n"
   ]
  },
  {
   "cell_type": "markdown",
   "id": "73776c32",
   "metadata": {},
   "source": [
    "Raw data"
   ]
  },
  {
   "cell_type": "code",
   "execution_count": 5,
   "id": "9f198493",
   "metadata": {},
   "outputs": [],
   "source": [
    "microbial_data = np.array(df[microbial_features])\n",
    "host_data_1 = np.array(df[static_features])\n",
    "host_data_2 = np.array(df[dynamic_features])\n",
    "abx_data = np.array(df[abx_features])\n",
    "\n",
    "static_feature_values = np.array([list(set(host_data_1[:,i])) for i in range(nb_static_features)], dtype=object)\n",
    "static_feature_values_counter = np.array([len(static_feature_values[i]) for i in range(nb_static_features)])\n",
    "static_feature_digitized_size = len(sum(static_feature_values, []))\n",
    "\n",
    "dynamic_feature_values = np.array([list(set(host_data_2[:,i])) for i in range(nb_dynamic_features)], dtype=object)\n",
    "dynamic_feature_values_counter = np.array([len(dynamic_feature_values[i]) for i in range(nb_dynamic_features)])\n",
    "dynamic_feature_digitized_size = len(sum(dynamic_feature_values, []))"
   ]
  },
  {
   "cell_type": "markdown",
   "id": "bc30f232",
   "metadata": {},
   "source": [
    "Samples age"
   ]
  },
  {
   "cell_type": "code",
   "execution_count": 6,
   "id": "2f5081af",
   "metadata": {},
   "outputs": [],
   "source": [
    "sample_age_days = np.array(df[['age_days']])\n",
    "sample_age_days = sample_age_days.astype(int)\n",
    "sample_age_days_max = sample_age_days.max()"
   ]
  },
  {
   "cell_type": "markdown",
   "id": "3eb6620d",
   "metadata": {},
   "source": [
    "Hosts"
   ]
  },
  {
   "cell_type": "code",
   "execution_count": 7,
   "id": "534db9c5",
   "metadata": {},
   "outputs": [],
   "source": [
    "sample_host = np.array(df[['host_id']]).reshape(-1)\n",
    "hosts = np.array(list(set(sample_host)))\n",
    "nb_host = len(hosts)"
   ]
  },
  {
   "cell_type": "markdown",
   "id": "0941be1f",
   "metadata": {},
   "source": [
    "Antibiotics presence"
   ]
  },
  {
   "cell_type": "code",
   "execution_count": 8,
   "id": "3aa43c22",
   "metadata": {},
   "outputs": [],
   "source": [
    "abx_max_count_ever = np.array(df[['abx_max_count_ever']]).reshape(-1)\n",
    "abx_any_last_t_dmonths = np.array(df[['abx_any_last_t_dmonths']]).reshape(-1)"
   ]
  },
  {
   "cell_type": "markdown",
   "id": "ad52fa8f",
   "metadata": {},
   "source": [
    "## Dataset dimensions"
   ]
  },
  {
   "cell_type": "code",
   "execution_count": 9,
   "id": "32275524",
   "metadata": {},
   "outputs": [
    {
     "name": "stdout",
     "output_type": "stream",
     "text": [
      "Number of infant hosts :  255\n",
      "--> number of paths\n",
      "Number of microbial features :  98\n",
      "--> dimension\n",
      "Maximum age (in days) of an infant on which a sample was collected :  1162\n",
      "--> number of steps\n",
      "Total number of samples (among all hosts) :  2488\n",
      "--> total number of data points\n"
     ]
    }
   ],
   "source": [
    "print(\"Number of infant hosts : \", nb_host)\n",
    "print(\"--> number of paths\")\n",
    "print(\"Number of microbial features : \", nb_microbial_features)\n",
    "print(\"--> dimension\")\n",
    "print(\"Maximum age (in days) of an infant on which a sample was collected : \", sample_age_days_max)\n",
    "print(\"--> number of steps\")\n",
    "print(\"Total number of samples (among all hosts) : \", df.shape[0])\n",
    "print(\"--> total number of data points\")"
   ]
  },
  {
   "cell_type": "markdown",
   "id": "e6b50f4e",
   "metadata": {},
   "source": [
    "## Dataset Creation"
   ]
  },
  {
   "cell_type": "code",
   "execution_count": 17,
   "id": "5ba79087",
   "metadata": {},
   "outputs": [],
   "source": [
    "paths = np.zeros((nb_host,nb_microbial_features,sample_age_days_max+1), dtype=np.float32)\n",
    "observed_dates = np.zeros((nb_host,sample_age_days_max+1), dtype=np.int32)\n",
    "\n",
    "static = np.zeros((nb_host,static_feature_digitized_size), dtype=np.float32)\n",
    "dynamic = np.zeros((nb_host,dynamic_feature_digitized_size,sample_age_days_max+1), dtype=np.float32)\n",
    "\n",
    "abx_any = np.zeros(nb_host, dtype=np.bool_)\n",
    "abx_observed = np.zeros(nb_host, dtype=np.bool_)"
   ]
  },
  {
   "cell_type": "markdown",
   "id": "269e10c4",
   "metadata": {},
   "source": [
    "Time Series creation"
   ]
  },
  {
   "cell_type": "code",
   "execution_count": 18,
   "id": "6d53729a",
   "metadata": {},
   "outputs": [],
   "source": [
    "for i in range(df.shape[0]):\n",
    "    idx = list(hosts).index(sample_host[i])\n",
    "    time = sample_age_days[i][0]\n",
    "    observed_dates[idx,time]=1\n",
    "    paths[idx,:,time] = microbial_data[i]\n",
    "\n",
    "    host_feature = np.zeros(dynamic_feature_digitized_size)\n",
    "    c = 0\n",
    "    for f in range(nb_static_features):\n",
    "        feature = host_data_2[i,f]\n",
    "        feature_idx = dynamic_feature_values[f].index(feature)\n",
    "        host_feature[c + feature_idx] = 1.\n",
    "        c += dynamic_feature_values_counter[f]\n",
    "    dynamic[idx,:,time] = host_feature\n",
    "    \n",
    "    if abx_max_count_ever[i] > 0.:\n",
    "        abx_any[idx] = 1\n",
    "    if not np.isnan(abx_any_last_t_dmonths[i]):\n",
    "        abx_observed[idx] = 1\n",
    "nb_obs = np.sum(observed_dates, axis=1)"
   ]
  },
  {
   "cell_type": "code",
   "execution_count": 19,
   "id": "c9cd4f97",
   "metadata": {},
   "outputs": [
    {
     "name": "stdout",
     "output_type": "stream",
     "text": [
      "0\n"
     ]
    }
   ],
   "source": [
    "count = 0\n",
    "\n",
    "for i in range(df.shape[0]):\n",
    "    idx = list(hosts).index(sample_host[i])\n",
    "    \n",
    "    host_feature = np.zeros(static_feature_digitized_size)\n",
    "    c = 0\n",
    "    for f in range(nb_static_features):\n",
    "        feature = host_data_1[i,f]\n",
    "        feature_idx = static_feature_values[f].index(feature)\n",
    "        host_feature[c + feature_idx] = 1.\n",
    "        c += static_feature_values_counter[f]\n",
    "\n",
    "    \n",
    "    if np.sum(static[idx]) != 0 and (static[idx] != host_feature).any():\n",
    "        count += 1\n",
    "        print(\"Problem : different host static data encountered among samples ! \")\n",
    "        print(idx)\n",
    "        print(static[idx])\n",
    "        print(host_feature)\n",
    "    static[idx] = host_feature\n",
    "    \n",
    "print(count)\n",
    "        "
   ]
  },
  {
   "cell_type": "code",
   "execution_count": 20,
   "id": "c2ccbd86",
   "metadata": {},
   "outputs": [
    {
     "name": "stdout",
     "output_type": "stream",
     "text": [
      "Number of host who took antibiotics before at least one sample was taken :  141\n",
      "Number of host who where never observed with antibiotics :  114\n"
     ]
    }
   ],
   "source": [
    "print(\"Number of host who took antibiotics before at least one sample was taken : \", abx_observed.sum())\n",
    "print(\"Number of host who where never observed with antibiotics : \", nb_host - abx_observed.sum())"
   ]
  },
  {
   "cell_type": "markdown",
   "id": "4b0e0320",
   "metadata": {},
   "source": [
    "## Estimation of paths initial values"
   ]
  },
  {
   "cell_type": "code",
   "execution_count": 21,
   "id": "74944044",
   "metadata": {},
   "outputs": [],
   "source": [
    "weight_method = \"time_neg_exponential\"\n",
    "weight_param = 100.\n",
    "times = np.arange(sample_age_days_max+1)\n",
    "if weight_method == \"time_neg_exponential\":\n",
    "    weights = expon.pdf(times, loc=0., scale=weight_param)\n",
    "\n",
    "paths_0 = np.zeros((nb_host, nb_microbial_features))\n",
    "for i in range(nb_host):\n",
    "    paths_0[i] = np.sum(paths[i] * np.tile((weights * observed_dates[i]).reshape(1,-1),(nb_microbial_features,1)),axis=1) / np.sum(weights * observed_dates[i])"
   ]
  },
  {
   "cell_type": "code",
   "execution_count": 22,
   "id": "41115667",
   "metadata": {},
   "outputs": [],
   "source": [
    "paths[:,:,0] = paths_0\n",
    "observed_dates[:,0] = 1\n",
    "nb_obs = np.sum(observed_dates, axis=1)"
   ]
  },
  {
   "cell_type": "markdown",
   "id": "714ca82a",
   "metadata": {},
   "source": [
    "## Checks"
   ]
  },
  {
   "cell_type": "code",
   "execution_count": 23,
   "id": "c7f93c83",
   "metadata": {},
   "outputs": [
    {
     "name": "stdout",
     "output_type": "stream",
     "text": [
      "Check whether the time of samples is more precise than days :\n",
      "--> No\n"
     ]
    }
   ],
   "source": [
    "print(\"Check whether the time of samples is more precise than days :\")\n",
    "# Check if 'age_days' values are just int\n",
    "if np.max(np.abs(np.array(df[['age_days']]) - np.array(df[['age_days']]).astype(int))) > 0:\n",
    "    print(\"--> Yes\")\n",
    "else:\n",
    "    print(\"--> No\")"
   ]
  },
  {
   "cell_type": "code",
   "execution_count": 24,
   "id": "e3d62858",
   "metadata": {},
   "outputs": [
    {
     "name": "stdout",
     "output_type": "stream",
     "text": [
      "Check if the sum of features is 1 for each data point : \n",
      "--> Yes\n"
     ]
    }
   ],
   "source": [
    "print(\"Check if the sum of features is 1 for each data point : \")\n",
    "if np.max(np.abs(np.sum(microbial_data, axis=1)-1)) > 1e-10:\n",
    "    print(\"--> No\")\n",
    "else:\n",
    "    print(\"--> Yes\")"
   ]
  },
  {
   "cell_type": "code",
   "execution_count": 25,
   "id": "72fc31ac",
   "metadata": {},
   "outputs": [
    {
     "name": "stdout",
     "output_type": "stream",
     "text": [
      "Check if the sum of features is 1 for each estimated S0 : \n",
      "--> Yes\n"
     ]
    }
   ],
   "source": [
    "print(\"Check if the sum of features is 1 for each estimated S0 : \")\n",
    "if np.max(np.abs(np.sum(paths_0, axis=1)-1)) > 1e-5:\n",
    "    print(\"--> No\")\n",
    "else:\n",
    "    print(\"--> Yes\")"
   ]
  },
  {
   "cell_type": "code",
   "execution_count": 26,
   "id": "c1c7a087",
   "metadata": {},
   "outputs": [
    {
     "name": "stdout",
     "output_type": "stream",
     "text": [
      "Minimal Time-difference (in days) : \n",
      "3.0\n"
     ]
    }
   ],
   "source": [
    "print(\"Minimal Time-difference (in days) : \")\n",
    "min_dt_per_host = np.empty(nb_host)\n",
    "min_dt_per_host.fill(np.inf)\n",
    "for i in range(nb_host):\n",
    "    times = np.where(observed_dates[i] == 1.)[0]\n",
    "    if len(times) > 1:\n",
    "        min_dt_per_host[i] = np.min(times[1:] - times[:-1])\n",
    "# print(min_dt_per_host)\n",
    "print(np.min(min_dt_per_host))"
   ]
  },
  {
   "cell_type": "markdown",
   "id": "dfbceac9",
   "metadata": {},
   "source": [
    "## Paths"
   ]
  },
  {
   "cell_type": "code",
   "execution_count": 27,
   "id": "b585c3e4",
   "metadata": {},
   "outputs": [],
   "source": [
    "dataset_name = \"microbial_genus/\"\n",
    "dataset_path = os.path.join('data/training_data/', dataset_name)\n",
    "if not os.path.isdir(dataset_path):\n",
    "    os.mkdir(dataset_path)"
   ]
  },
  {
   "cell_type": "markdown",
   "id": "adfab83c",
   "metadata": {},
   "source": [
    "## Saving files"
   ]
  },
  {
   "cell_type": "code",
   "execution_count": 28,
   "id": "e28bea57",
   "metadata": {},
   "outputs": [],
   "source": [
    "with open(dataset_path + 'data.npy', 'wb') as f:\n",
    "    np.save(f, paths)\n",
    "    np.save(f, observed_dates)\n",
    "    np.save(f, nb_obs)\n",
    "    np.save(f, dynamic)\n",
    "    np.save(f, static)"
   ]
  },
  {
   "cell_type": "code",
   "execution_count": 30,
   "id": "03431593",
   "metadata": {},
   "outputs": [],
   "source": [
    "metadata_dict = {\"S0\": None,\n",
    "           \"dimension\": nb_microbial_features,\n",
    "           \"dynamic_cov_dim\": dynamic_feature_digitized_size,\n",
    "           \"dt\": 1. / float(sample_age_days_max),\n",
    "           \"maturity\": 1.,\n",
    "           \"model_name\": \"microbial_genus\",\n",
    "           \"nb_paths\": nb_host,\n",
    "           \"nb_steps\": int(sample_age_days_max),\n",
    "          \"period\": 1.}\n",
    "\n",
    "with open(dataset_path + \"metadata.txt\", 'w') as f:\n",
    "    json.dump(metadata_dict, f, sort_keys=True)"
   ]
  },
  {
   "cell_type": "markdown",
   "id": "61e546da",
   "metadata": {},
   "source": [
    "## Create dataset subdivision train/test/val"
   ]
  },
  {
   "cell_type": "markdown",
   "id": "9cafcedc",
   "metadata": {},
   "source": [
    "Train and val sets without abx"
   ]
  },
  {
   "cell_type": "code",
   "execution_count": 106,
   "id": "235efb7b",
   "metadata": {},
   "outputs": [],
   "source": [
    "test_size = 0.2\n",
    "seed = 398\n",
    "\n",
    "train_idx, val_idx = train_test_split(np.where(~abx_observed)[0], test_size=test_size, random_state=seed)\n",
    "\n",
    "idx_dataset_path = os.path.join(dataset_path, \"no_abx/\")\n",
    "if not os.path.isdir(idx_dataset_path):\n",
    "    os.mkdir(idx_dataset_path)\n",
    "\n",
    "with open(idx_dataset_path + 'train_idx.npy', 'wb') as f:\n",
    "    np.save(f, train_idx)\n",
    "with open(idx_dataset_path + 'val_idx.npy', 'wb') as f:\n",
    "    np.save(f, val_idx)\n",
    "    "
   ]
  },
  {
   "cell_type": "code",
   "execution_count": null,
   "id": "4d8933a1",
   "metadata": {},
   "outputs": [],
   "source": [
    "train_idx, val_idx = train_test_split(np.arange(nb_host), test_size=test_size, random_state=seed)\n",
    "\n",
    "idx_dataset_path = os.path.join(dataset_path, \"all/\")\n",
    "if not os.path.isdir(idx_dataset_path):\n",
    "    os.mkdir(idx_dataset_path)\n",
    "\n",
    "with open(idx_dataset_path + 'train_idx.npy', 'wb') as f:\n",
    "    np.save(f, train_idx)\n",
    "with open(idx_dataset_path + 'val_idx.npy', 'wb') as f:\n",
    "    np.save(f, val_idx)"
   ]
  }
 ],
 "metadata": {
  "kernelspec": {
   "display_name": "pbforecast",
   "language": "python",
   "name": "python3"
  },
  "language_info": {
   "file_extension": ".gp",
   "mimetype": "text/x-pari-gp",
   "name": "python",
   "version": "3.7.16"
  }
 },
 "nbformat": 4,
 "nbformat_minor": 5
}
