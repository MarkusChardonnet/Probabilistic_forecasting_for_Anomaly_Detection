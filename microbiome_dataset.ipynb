{
 "cells": [
  {
   "cell_type": "markdown",
   "id": "f33b77fc",
   "metadata": {},
   "source": [
    "## Imports"
   ]
  },
  {
   "cell_type": "code",
   "execution_count": 108,
   "id": "834e2f2c",
   "metadata": {},
   "outputs": [],
   "source": [
    "import pandas\n",
    "import numpy as np\n",
    "import os\n",
    "import json\n",
    "import pickle\n",
    "from scipy.stats import expon\n",
    "from sklearn.model_selection import train_test_split"
   ]
  },
  {
   "cell_type": "markdown",
   "id": "0792370f",
   "metadata": {},
   "source": [
    "## Dataset import"
   ]
  },
  {
   "cell_type": "code",
   "execution_count": 75,
   "id": "51fc1161",
   "metadata": {},
   "outputs": [],
   "source": [
    "dataset = 'ft_vat19_anomaly_v20230824_genus'\n",
    "df = pandas.read_csv('data/original_data/' + dataset + '.tsv',sep='\\t')"
   ]
  },
  {
   "cell_type": "code",
   "execution_count": 76,
   "id": "a0efc161",
   "metadata": {},
   "outputs": [
    {
     "name": "stdout",
     "output_type": "stream",
     "text": [
      "              id  age_days  host_id delivery_mode   sex geo_location_name  \\\n",
      "0     SRR8118517      56.0  E000823       vaginal  male           Finland   \n",
      "1     SRR8118530      79.0  E000823       vaginal  male           Finland   \n",
      "2     SRR8118533     121.0  E000823       vaginal  male           Finland   \n",
      "3     SRR8118576     151.0  E000823       vaginal  male           Finland   \n",
      "4     SRR8118648     173.0  E000823       vaginal  male           Finland   \n",
      "...          ...       ...      ...           ...   ...               ...   \n",
      "2483  SRR8116545     311.0  T029922      cesarean  male           Estonia   \n",
      "2484  SRR8120282     437.0  T029922      cesarean  male           Estonia   \n",
      "2485  SRR8120281     498.0  T029922      cesarean  male           Estonia   \n",
      "2486  SRR8120283     591.0  T029922      cesarean  male           Estonia   \n",
      "2487  SRR8120285     685.0  T029922      cesarean  male           Estonia   \n",
      "\n",
      "     diet_milk diet_weaning  age_months_rounded  abx_any_last_t_dmonths  ...  \\\n",
      "0           bd           no                 2.0                     NaN  ...   \n",
      "1           bd           no                 2.5                     NaN  ...   \n",
      "2           bd           no                 4.0                     NaN  ...   \n",
      "3        mixed          yes                 5.0                     NaN  ...   \n",
      "4        mixed          yes                 5.5                     NaN  ...   \n",
      "...        ...          ...                 ...                     ...  ...   \n",
      "2483       NaN          yes                10.0                     4.0  ...   \n",
      "2484       NaN          yes                14.5                     1.0  ...   \n",
      "2485       NaN          yes                16.5                     3.0  ...   \n",
      "2486       NaN          yes                19.5                     6.0  ...   \n",
      "2487       NaN          yes                22.5                     9.0  ...   \n",
      "\n",
      "      g__UCG_003  g__UCG_005  g__Veillonella  g__other_rare  g__uncultured  \\\n",
      "0       0.000000    0.000000        0.000000       0.007274       0.000000   \n",
      "1       0.000000    0.000000        0.000064       0.007255       0.000000   \n",
      "2       0.000000    0.000000        0.000000       0.006988       0.000042   \n",
      "3       0.000000    0.000000        0.000967       0.005573       0.000000   \n",
      "4       0.000000    0.000000        0.053451       0.006173       0.000000   \n",
      "...          ...         ...             ...            ...            ...   \n",
      "2483    0.000000    0.000000        0.022272       0.036715       0.000000   \n",
      "2484    0.012473    0.000000        0.006542       0.006787       0.000000   \n",
      "2485    0.001436    0.000000        0.011203       0.012830       0.000000   \n",
      "2486    0.015957    0.003561        0.029632       0.021923       0.002235   \n",
      "2487    0.000459    0.000673        0.000826       0.082336       0.000551   \n",
      "\n",
      "      g__unkn_f__Enterobacteriaceae  g__unkn_f__Lachnospiraceae  \\\n",
      "0                          0.000000                    0.000000   \n",
      "1                          0.000000                    0.000000   \n",
      "2                          0.000000                    0.000000   \n",
      "3                          0.000000                    0.000000   \n",
      "4                          0.000375                    0.000000   \n",
      "...                             ...                         ...   \n",
      "2483                       0.001417                    0.002497   \n",
      "2484                       0.000000                    0.006726   \n",
      "2485                       0.000000                    0.002489   \n",
      "2486                       0.000000                    0.011625   \n",
      "2487                       0.002540                    0.006334   \n",
      "\n",
      "      g__unkn_f__Pasteurellaceae  g__unkn_f__Ruminococcaceae  sampling_depth  \n",
      "0                       0.012123                    0.000000          8249.0  \n",
      "1                       0.004452                    0.000000         46725.0  \n",
      "2                       0.000000                    0.000000         48084.0  \n",
      "3                       0.000000                    0.000000         17586.0  \n",
      "4                       0.000000                    0.000000         34667.0  \n",
      "...                          ...                         ...             ...  \n",
      "2483                    0.000000                    0.000000         14817.0  \n",
      "2484                    0.000000                    0.000000         16355.0  \n",
      "2485                    0.000000                    0.000191         10444.0  \n",
      "2486                    0.000000                    0.000000         64863.0  \n",
      "2487                    0.000000                    0.000000         32683.0  \n",
      "\n",
      "[2488 rows x 121 columns]\n"
     ]
    }
   ],
   "source": [
    "print(df)"
   ]
  },
  {
   "cell_type": "markdown",
   "id": "a0abd7eb",
   "metadata": {},
   "source": [
    "## Pre-processing"
   ]
  },
  {
   "cell_type": "markdown",
   "id": "b09c687f",
   "metadata": {},
   "source": [
    "Features"
   ]
  },
  {
   "cell_type": "code",
   "execution_count": 78,
   "id": "d59e2f94",
   "metadata": {},
   "outputs": [
    {
     "name": "stdout",
     "output_type": "stream",
     "text": [
      "id\n",
      "age_days\n",
      "host_id\n",
      "delivery_mode\n",
      "sex\n",
      "geo_location_name\n",
      "diet_milk\n",
      "diet_weaning\n",
      "age_months_rounded\n",
      "abx_any_last_t_dmonths\n",
      "abx_any_last_dur_days\n",
      "abx_any_cumcount\n",
      "abx_any_cumdur_days\n",
      "abx_broad_last_t_dmonths\n",
      "abx_broad_last_dur_days\n",
      "abx_broad_cumcount\n",
      "abx_broad_cumdur_days\n",
      "abx_narrow_last_t_dmonths\n",
      "abx_narrow_last_dur_days\n",
      "abx_narrow_cumcount\n",
      "abx_narrow_cumdur_days\n",
      "abx_max_count_ever\n",
      "g__Actinobacillus\n",
      "g__Actinomyces\n",
      "g__Agathobacter\n",
      "g__Akkermansia\n",
      "g__Alistipes\n",
      "g__Anaerosporobacter\n",
      "g__Anaerostipes\n",
      "g__Bacteroides\n",
      "g__Barnesiella\n",
      "g__Bifidobacterium\n",
      "g__Bilophila\n",
      "g__Blautia\n",
      "g__Butyricicoccus\n",
      "g__CAG_352\n",
      "g__Campylobacter\n",
      "g__Chloroplast\n",
      "g__Christensenellaceae_R_7_group\n",
      "g__Clostridia_UCG_014\n",
      "g__Clostridia_vadinBB60_group\n",
      "g__Clostridioides\n",
      "g__Clostridium_innocuum_group\n",
      "g__Clostridium_sensu_stricto_1\n",
      "g__Colidextribacter\n",
      "g__Collinsella\n",
      "g__Coprobacillus\n",
      "g__Coprococcus\n",
      "g__DTU089\n",
      "g__Dialister\n",
      "g__Dorea\n",
      "g__Eggerthella\n",
      "g__Eisenbergiella\n",
      "g__Enterococcus\n",
      "g__Erysipelatoclostridium\n",
      "g__Erysipelotrichaceae_UCG_003\n",
      "g__Escherichia_Shigella\n",
      "g__Eubacterium_coprostanoligenes_group\n",
      "g__Eubacterium_eligens_group\n",
      "g__Eubacterium_hallii_group\n",
      "g__Eubacterium_siraeum_group\n",
      "g__Eubacterium_ventriosum_group\n",
      "g__Eubacterium_xylanophilum_group\n",
      "g__Faecalibacterium\n",
      "g__Family_XIII_AD3011_group\n",
      "g__Flavonifractor\n",
      "g__Fusicatenibacter\n",
      "g__Fusobacterium\n",
      "g__Gastranaerophilales\n",
      "g__Gemella\n",
      "g__Granulicatella\n",
      "g__Haemophilus\n",
      "g__Holdemania\n",
      "g__Hungatella\n",
      "g__Incertae_Sedis\n",
      "g__Intestinibacter\n",
      "g__Intestinimonas\n",
      "g__Lachnoclostridium\n",
      "g__Lachnospira\n",
      "g__Lachnospiraceae_FCS020_group\n",
      "g__Lachnospiraceae_ND3007_group\n",
      "g__Lachnospiraceae_NK4A136_group\n",
      "g__Lachnospiraceae_UCG_001\n",
      "g__Lachnospiraceae_UCG_004\n",
      "g__Lachnospiraceae_UCG_010\n",
      "g__Lactobacillus\n",
      "g__Lactococcus\n",
      "g__Megasphaera\n",
      "g__Monoglobus\n",
      "g__Odoribacter\n",
      "g__Oscillibacter\n",
      "g__Oscillospira\n",
      "g__Parabacteroides\n",
      "g__Parasutterella\n",
      "g__Prevotella\n",
      "g__Pseudomonas\n",
      "g__Romboutsia\n",
      "g__Roseburia\n",
      "g__Ruminococcus\n",
      "g__Ruminococcus_gauvreauii_group\n",
      "g__Ruminococcus_gnavus_group\n",
      "g__Ruminococcus_torques_group\n",
      "g__Sellimonas\n",
      "g__Streptococcus\n",
      "g__Subdoligranulum\n",
      "g__Sutterella\n",
      "g__Terrisporobacter\n",
      "g__Turicibacter\n",
      "g__Tyzzerella\n",
      "g__UBA1819\n",
      "g__UCG_002\n",
      "g__UCG_003\n",
      "g__UCG_005\n",
      "g__Veillonella\n",
      "g__other_rare\n",
      "g__uncultured\n",
      "g__unkn_f__Enterobacteriaceae\n",
      "g__unkn_f__Lachnospiraceae\n",
      "g__unkn_f__Pasteurellaceae\n",
      "g__unkn_f__Ruminococcaceae\n",
      "sampling_depth\n"
     ]
    }
   ],
   "source": [
    "cols = df.columns\n",
    "microbial_features = []\n",
    "abx_features = []\n",
    "static_features = [\"delivery_mode\", \"sex\", \"geo_location_name\"]\n",
    "other_features = [\"diet_milk\", \"diet_weaning\"]\n",
    "\n",
    "for col in cols:\n",
    "    print(col)\n",
    "    if col[:2] == 'g_':\n",
    "        microbial_features.append(col)\n",
    "    if len(col) > 4 and col[:4] == 'abx_':\n",
    "        abx_features.append(col)\n",
    "        \n",
    "microbial_features = np.array(microbial_features)\n",
    "nb_microbial_features = len(microbial_features)\n",
    "static_features = np.array(static_features)\n",
    "nb_static_features = len(static_features)\n",
    "abx_features = np.array(abx_features)\n"
   ]
  },
  {
   "cell_type": "markdown",
   "id": "73776c32",
   "metadata": {},
   "source": [
    "Raw data"
   ]
  },
  {
   "cell_type": "code",
   "execution_count": 79,
   "id": "9f198493",
   "metadata": {},
   "outputs": [
    {
     "name": "stdout",
     "output_type": "stream",
     "text": [
      "[list(['cesarean', 'vaginal']) list(['male', 'female'])\n",
      " list(['Finland', 'Estonia', 'Russia'])]\n"
     ]
    }
   ],
   "source": [
    "microbial_data = np.array(df[microbial_features])\n",
    "host_data = np.array(df[static_features])\n",
    "abx_data = np.array(df[abx_features])\n",
    "\n",
    "static_feature_values = np.array([list(set(host_data[:,i])) for i in range(nb_static_features)], dtype=object)\n",
    "print(static_feature_values)\n",
    "# host_feature_values_digitized = np.array([list(range(len(host_feature_values[i]))) for i in range(nb_host_features)], dtype=object)\n",
    "\n",
    "static_feature_values_counter = np.array([len(static_feature_values[i]) for i in range(nb_static_features)])\n",
    "static_feature_digitized_size = len(sum(static_feature_values, []))"
   ]
  },
  {
   "cell_type": "markdown",
   "id": "bc30f232",
   "metadata": {},
   "source": [
    "Samples age"
   ]
  },
  {
   "cell_type": "code",
   "execution_count": 80,
   "id": "2f5081af",
   "metadata": {},
   "outputs": [],
   "source": [
    "sample_age_days = np.array(df[['age_days']])\n",
    "sample_age_days = sample_age_days.astype(int)\n",
    "sample_age_days_max = sample_age_days.max()"
   ]
  },
  {
   "cell_type": "markdown",
   "id": "3eb6620d",
   "metadata": {},
   "source": [
    "Hosts"
   ]
  },
  {
   "cell_type": "code",
   "execution_count": 81,
   "id": "534db9c5",
   "metadata": {},
   "outputs": [],
   "source": [
    "sample_host = np.array(df[['host_id']]).reshape(-1)\n",
    "hosts = np.array(list(set(sample_host)))\n",
    "nb_host = len(hosts)"
   ]
  },
  {
   "cell_type": "markdown",
   "id": "0941be1f",
   "metadata": {},
   "source": [
    "Antibiotics presence"
   ]
  },
  {
   "cell_type": "code",
   "execution_count": 82,
   "id": "3aa43c22",
   "metadata": {},
   "outputs": [],
   "source": [
    "abx_max_count_ever = np.array(df[['abx_max_count_ever']]).reshape(-1)\n",
    "abx_any_last_t_dmonths = np.array(df[['abx_any_last_t_dmonths']]).reshape(-1)"
   ]
  },
  {
   "cell_type": "markdown",
   "id": "ad52fa8f",
   "metadata": {},
   "source": [
    "## Dataset dimensions"
   ]
  },
  {
   "cell_type": "code",
   "execution_count": 83,
   "id": "32275524",
   "metadata": {},
   "outputs": [
    {
     "name": "stdout",
     "output_type": "stream",
     "text": [
      "Number of infant hosts :  255\n",
      "--> number of paths\n",
      "Number of microbial features :  98\n",
      "--> dimension\n",
      "Maximum age (in days) of an infant on which a sample was collected :  1162\n",
      "--> number of steps\n",
      "Total number of samples (among all hosts) :  2488\n",
      "--> total number of data points\n"
     ]
    }
   ],
   "source": [
    "print(\"Number of infant hosts : \", nb_host)\n",
    "print(\"--> number of paths\")\n",
    "print(\"Number of microbial features : \", nb_microbial_features)\n",
    "print(\"--> dimension\")\n",
    "print(\"Maximum age (in days) of an infant on which a sample was collected : \", sample_age_days_max)\n",
    "print(\"--> number of steps\")\n",
    "print(\"Total number of samples (among all hosts) : \", df.shape[0])\n",
    "print(\"--> total number of data points\")"
   ]
  },
  {
   "cell_type": "markdown",
   "id": "e6b50f4e",
   "metadata": {},
   "source": [
    "## Dataset Creation"
   ]
  },
  {
   "cell_type": "code",
   "execution_count": 84,
   "id": "5ba79087",
   "metadata": {},
   "outputs": [],
   "source": [
    "paths = np.zeros((nb_host,nb_microbial_features,sample_age_days_max+1), dtype=np.float32)\n",
    "observed_dates = np.zeros((nb_host,sample_age_days_max+1), dtype=np.int32)\n",
    "\n",
    "static = np.zeros((nb_host,static_feature_digitized_size), dtype=np.float32)\n",
    "\n",
    "abx_any = np.zeros(nb_host, dtype=np.bool_)\n",
    "abx_observed = np.zeros(nb_host, dtype=np.bool_)"
   ]
  },
  {
   "cell_type": "markdown",
   "id": "269e10c4",
   "metadata": {},
   "source": [
    "Time Series creation"
   ]
  },
  {
   "cell_type": "code",
   "execution_count": 85,
   "id": "6d53729a",
   "metadata": {},
   "outputs": [],
   "source": [
    "for i in range(df.shape[0]):\n",
    "    idx = list(hosts).index(sample_host[i])\n",
    "    time = sample_age_days[i][0]\n",
    "    observed_dates[idx,time]=1\n",
    "    paths[idx,:,time] = microbial_data[i]\n",
    "    \n",
    "    if abx_max_count_ever[i] > 0.:\n",
    "        abx_any[idx] = 1\n",
    "    if not np.isnan(abx_any_last_t_dmonths[i]):\n",
    "        abx_observed[idx] = 1\n",
    "nb_obs = np.sum(observed_dates, axis=1)"
   ]
  },
  {
   "cell_type": "code",
   "execution_count": 86,
   "id": "c9cd4f97",
   "metadata": {},
   "outputs": [
    {
     "name": "stdout",
     "output_type": "stream",
     "text": [
      "0\n"
     ]
    }
   ],
   "source": [
    "count = 0\n",
    "\n",
    "for i in range(df.shape[0]):\n",
    "    idx = list(hosts).index(sample_host[i])\n",
    "    \n",
    "    host_feature = np.zeros(static_feature_digitized_size)\n",
    "    c = 0\n",
    "    for f in range(nb_static_features):\n",
    "        feature = host_data[i,f]\n",
    "        feature_idx = static_feature_values[f].index(feature)\n",
    "        host_feature[c + feature_idx] = 1.\n",
    "        c += static_feature_values_counter[f]\n",
    "\n",
    "    \n",
    "    if np.sum(static[idx]) != 0 and (static[idx] != host_feature).any():\n",
    "        count += 1\n",
    "        print(\"Problem : different host static data encountered among samples ! \")\n",
    "        print(idx)\n",
    "        print(static[idx])\n",
    "        print(host_feature)\n",
    "    static[idx] = host_feature\n",
    "    \n",
    "print(count)\n",
    "        "
   ]
  },
  {
   "cell_type": "code",
   "execution_count": 87,
   "id": "c2ccbd86",
   "metadata": {},
   "outputs": [
    {
     "name": "stdout",
     "output_type": "stream",
     "text": [
      "Number of host who took antibiotics before at least one sample was taken :  141\n",
      "Number of host who where never observed with antibiotics :  114\n"
     ]
    }
   ],
   "source": [
    "print(\"Number of host who took antibiotics before at least one sample was taken : \", abx_observed.sum())\n",
    "print(\"Number of host who where never observed with antibiotics : \", nb_host - abx_observed.sum())"
   ]
  },
  {
   "cell_type": "markdown",
   "id": "4b0e0320",
   "metadata": {},
   "source": [
    "## Estimation of paths initial values"
   ]
  },
  {
   "cell_type": "code",
   "execution_count": 88,
   "id": "74944044",
   "metadata": {},
   "outputs": [],
   "source": [
    "weight_method = \"time_neg_exponential\"\n",
    "weight_param = 100.\n",
    "times = np.arange(sample_age_days_max+1)\n",
    "if weight_method == \"time_neg_exponential\":\n",
    "    weights = expon.pdf(times, loc=0., scale=weight_param)\n",
    "\n",
    "paths_0 = np.zeros((nb_host, nb_microbial_features))\n",
    "for i in range(nb_host):\n",
    "    paths_0[i] = np.sum(paths[i] * np.tile((weights * observed_dates[i]).reshape(1,-1),(nb_microbial_features,1)),axis=1) / np.sum(weights * observed_dates[i])"
   ]
  },
  {
   "cell_type": "code",
   "execution_count": 89,
   "id": "41115667",
   "metadata": {},
   "outputs": [],
   "source": [
    "paths[:,:,0] = paths_0\n",
    "observed_dates[:,0] = 1\n",
    "nb_obs = np.sum(observed_dates, axis=1)"
   ]
  },
  {
   "cell_type": "markdown",
   "id": "714ca82a",
   "metadata": {},
   "source": [
    "## Checks"
   ]
  },
  {
   "cell_type": "code",
   "execution_count": 90,
   "id": "c7f93c83",
   "metadata": {},
   "outputs": [
    {
     "name": "stdout",
     "output_type": "stream",
     "text": [
      "Check whether the time of samples is more precise than days :\n",
      "--> No\n"
     ]
    }
   ],
   "source": [
    "print(\"Check whether the time of samples is more precise than days :\")\n",
    "# Check if 'age_days' values are just int\n",
    "if np.max(np.abs(np.array(df[['age_days']]) - np.array(df[['age_days']]).astype(int))) > 0:\n",
    "    print(\"--> Yes\")\n",
    "else:\n",
    "    print(\"--> No\")"
   ]
  },
  {
   "cell_type": "code",
   "execution_count": 91,
   "id": "e3d62858",
   "metadata": {},
   "outputs": [
    {
     "name": "stdout",
     "output_type": "stream",
     "text": [
      "Check if the sum of features is 1 for each data point : \n",
      "--> Yes\n"
     ]
    }
   ],
   "source": [
    "print(\"Check if the sum of features is 1 for each data point : \")\n",
    "if np.max(np.abs(np.sum(microbial_data, axis=1)-1)) > 1e-10:\n",
    "    print(\"--> No\")\n",
    "else:\n",
    "    print(\"--> Yes\")"
   ]
  },
  {
   "cell_type": "code",
   "execution_count": 92,
   "id": "72fc31ac",
   "metadata": {},
   "outputs": [
    {
     "name": "stdout",
     "output_type": "stream",
     "text": [
      "Check if the sum of features is 1 for each estimated S0 : \n",
      "--> Yes\n"
     ]
    }
   ],
   "source": [
    "print(\"Check if the sum of features is 1 for each estimated S0 : \")\n",
    "if np.max(np.abs(np.sum(paths_0, axis=1)-1)) > 1e-5:\n",
    "    print(\"--> No\")\n",
    "else:\n",
    "    print(\"--> Yes\")"
   ]
  },
  {
   "cell_type": "code",
   "execution_count": 93,
   "id": "c1c7a087",
   "metadata": {},
   "outputs": [
    {
     "name": "stdout",
     "output_type": "stream",
     "text": [
      "Minimal Time-difference (in days) : \n",
      "3.0\n"
     ]
    }
   ],
   "source": [
    "print(\"Minimal Time-difference (in days) : \")\n",
    "min_dt_per_host = np.empty(nb_host)\n",
    "min_dt_per_host.fill(np.inf)\n",
    "for i in range(nb_host):\n",
    "    times = np.where(observed_dates[i] == 1.)[0]\n",
    "    if len(times) > 1:\n",
    "        min_dt_per_host[i] = np.min(times[1:] - times[:-1])\n",
    "# print(min_dt_per_host)\n",
    "print(np.min(min_dt_per_host))"
   ]
  },
  {
   "cell_type": "markdown",
   "id": "dfbceac9",
   "metadata": {},
   "source": [
    "## Paths"
   ]
  },
  {
   "cell_type": "code",
   "execution_count": 94,
   "id": "b585c3e4",
   "metadata": {},
   "outputs": [],
   "source": [
    "dataset_name = \"microbial_genus/\"\n",
    "dataset_path = os.path.join('data/training_data/', dataset_name)\n",
    "if not os.path.isdir(dataset_name):\n",
    "    os.mkdir(dataset_name)"
   ]
  },
  {
   "cell_type": "markdown",
   "id": "adfab83c",
   "metadata": {},
   "source": [
    "## Saving files"
   ]
  },
  {
   "cell_type": "code",
   "execution_count": 95,
   "id": "e28bea57",
   "metadata": {},
   "outputs": [],
   "source": [
    "with open(dataset_path + 'data.npy', 'wb') as f:\n",
    "    np.save(f, paths)\n",
    "    np.save(f, observed_dates)\n",
    "    np.save(f, nb_obs)\n",
    "    np.save(f, static)"
   ]
  },
  {
   "cell_type": "code",
   "execution_count": 116,
   "id": "03431593",
   "metadata": {},
   "outputs": [
    {
     "name": "stdout",
     "output_type": "stream",
     "text": [
      "S0\n",
      "<class 'NoneType'>\n",
      "dimension\n",
      "<class 'int'>\n",
      "dt\n",
      "<class 'float'>\n",
      "maturity\n",
      "<class 'float'>\n",
      "model_name\n",
      "<class 'str'>\n",
      "nb_paths\n",
      "<class 'int'>\n",
      "nb_steps\n",
      "<class 'int'>\n",
      "period\n",
      "<class 'float'>\n",
      "{'S0': None, 'dimension': 98, 'dt': 0.0008605851979345956, 'maturity': 1.0, 'model_name': 'microbial_genus', 'nb_paths': 255, 'nb_steps': 1162, 'period': 1.0}\n"
     ]
    }
   ],
   "source": [
    "metadata_dict = {\"S0\": None,\n",
    "           \"dimension\": nb_microbial_features,\n",
    "           \"dt\": 1. / float(sample_age_days_max),\n",
    "           \"maturity\": 1.,\n",
    "           \"model_name\": \"microbial_genus\",\n",
    "           \"nb_paths\": nb_host,\n",
    "           \"nb_steps\": int(sample_age_days_max),\n",
    "          \"period\": 1.}\n",
    "\n",
    "with open(dataset_path + \"metadata.txt\", 'w') as f:\n",
    "    json.dump(metadata_dict, f, sort_keys=True)"
   ]
  },
  {
   "cell_type": "markdown",
   "id": "61e546da",
   "metadata": {},
   "source": [
    "## Create dataset subdivision train/test/val"
   ]
  },
  {
   "cell_type": "markdown",
   "id": "9cafcedc",
   "metadata": {},
   "source": [
    "Train and val sets without abx"
   ]
  },
  {
   "cell_type": "code",
   "execution_count": 106,
   "id": "235efb7b",
   "metadata": {},
   "outputs": [],
   "source": [
    "test_size = 0.2\n",
    "seed = 398\n",
    "\n",
    "train_idx, val_idx = train_test_split(np.where(~abx_observed)[0], test_size=test_size, random_state=seed)\n",
    "\n",
    "idx_dataset_path = os.path.join(dataset_path, \"no_abx/\")\n",
    "if not os.path.isdir(idx_dataset_path):\n",
    "    os.mkdir(idx_dataset_path)\n",
    "\n",
    "with open(idx_dataset_path + 'train_idx.npy', 'wb') as f:\n",
    "    np.save(f, train_idx)\n",
    "with open(idx_dataset_path + 'val_idx.npy', 'wb') as f:\n",
    "    np.save(f, val_idx)\n",
    "    "
   ]
  }
 ],
 "metadata": {
  "kernelspec": {
   "display_name": "Python 3 (ipykernel)",
   "language": "python",
   "name": "python3"
  },
  "language_info": {
   "codemirror_mode": {
    "name": "ipython",
    "version": 3
   },
   "file_extension": ".py",
   "mimetype": "text/x-python",
   "name": "python",
   "nbconvert_exporter": "python",
   "pygments_lexer": "ipython3",
   "version": "3.7.16"
  }
 },
 "nbformat": 4,
 "nbformat_minor": 5
}
