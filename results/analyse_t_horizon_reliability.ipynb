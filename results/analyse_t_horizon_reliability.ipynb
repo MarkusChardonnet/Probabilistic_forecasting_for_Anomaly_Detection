{
 "cells": [
  {
   "cell_type": "markdown",
   "metadata": {},
   "source": [
    "# Notebook to infer reliable time horizon\n",
    "\n",
    "To run this notebook you need to create and activate the following conda environment:\n",
    "\n",
    "```\n",
    "conda create --name score_eval numpy pandas matplotlib seaborn scipy ipython ipykernel -y\n",
    "conda activate score_eval\n",
    "pip install -e .\n",
    "```\n"
   ]
  },
  {
   "cell_type": "markdown",
   "metadata": {},
   "source": [
    "## Setup"
   ]
  },
  {
   "cell_type": "code",
   "execution_count": 1,
   "metadata": {},
   "outputs": [],
   "source": [
    "import os\n",
    "\n",
    "import numpy as np\n",
    "import pandas as pd\n",
    "\n",
    "from src.utils_eval_score import (\n",
    "    _plot_score_after_nth_abx_exposure,\n",
    ")\n",
    "from src.utils_t_horizon import (\n",
    "    enrich_scores,\n",
    "    plot_cutoff_date_distribution,\n",
    "    transform_cutoff_scores,\n",
    ")\n",
    "\n",
    "%load_ext autoreload\n",
    "%autoreload 2\n",
    "%matplotlib inline\n",
    "\n",
    "# avg. number of days per month\n",
    "DAYS_PER_MONTH = 30.437"
   ]
  },
  {
   "cell_type": "markdown",
   "metadata": {},
   "source": [
    "USER input: define the inferred model and linked datasets to evaluate here:"
   ]
  },
  {
   "cell_type": "code",
   "execution_count": 2,
   "metadata": {},
   "outputs": [],
   "source": [
    "#### USER INPUT START\n",
    "# name of the model\n",
    "model_name = \"saved_models_microbial_novel_alpha_div/id-2_test\"\n",
    "\n",
    "# name of feature dataset used for model\n",
    "ft_name = \"ft_vat19_anomaly_v20240806_entero_family\"\n",
    "# name of abx time-series used for model\n",
    "abx_ts_name = \"ts_vat19_abx_v20240806\"\n",
    "\n",
    "# limit evaluation to time range up to this many months (if None no limit is set\n",
    "# and all scores are evaluated)\n",
    "limit_months = 24.0\n",
    "\n",
    "# whether to group samples prior to cutoff in analysis\n",
    "group_samples = False\n",
    "\n",
    "# how many samples prior and after cutoff to consider\n",
    "min_samples = -3.0\n",
    "max_samples = 24.0\n",
    "#### USER INPUT END"
   ]
  },
  {
   "cell_type": "markdown",
   "metadata": {},
   "source": [
    "## Prepare data"
   ]
  },
  {
   "cell_type": "code",
   "execution_count": 3,
   "metadata": {},
   "outputs": [],
   "source": [
    "cutoff_scores_path = (\n",
    "    f\"../data/{model_name}/anomaly_detection/reliability_eval-val-noabx/\"\n",
    ")\n",
    "evaluation_path = f\"../data/{model_name}/anomaly_detection/reliability_evaluation/\"\n",
    "\n",
    "if not os.path.exists(evaluation_path):\n",
    "    os.makedirs(evaluation_path)\n"
   ]
  },
  {
   "cell_type": "code",
   "execution_count": null,
   "metadata": {},
   "outputs": [],
   "source": [
    "c_scores_list = []\n",
    "i_values = list(range(0, 1141, 30))\n",
    "\n",
    "for i in i_values:\n",
    "    c_scores = pd.read_csv(f\"{cutoff_scores_path}val_noabx_ad_scores_{i}_coord-0.csv\")\n",
    "\n",
    "    # transform scores from wide to long format\n",
    "    c_scores_t = transform_cutoff_scores(c_scores)\n",
    "\n",
    "    # filter scores\n",
    "    # ! at least one observation must be present before the cutoff\n",
    "    # ! same restriction was applied to abx scores in evaluate_scores.ipynb\n",
    "    c_scores_t = enrich_scores(c_scores_t)\n",
    "\n",
    "    # append each cutoff date to each other\n",
    "    c_scores_list.append(c_scores_t)\n",
    "\n",
    "c_scores_all = pd.concat(c_scores_list, ignore_index=True)\n",
    "c_scores_all"
   ]
  },
  {
   "cell_type": "code",
   "execution_count": null,
   "metadata": {},
   "outputs": [],
   "source": [
    "# plot before filtering:\n",
    "plot_cutoff_date_distribution(c_scores_all, \"- before filtering\")"
   ]
  },
  {
   "cell_type": "code",
   "execution_count": null,
   "metadata": {},
   "outputs": [],
   "source": [
    "# filter scores\n",
    "# ! filter: at least one observation must be present before the cutoff\n",
    "c_scores_all_f = c_scores_all[c_scores_all[\"nb_obs_before_cutoff\"] > 0].copy()\n",
    "# plot after filtering\n",
    "plot_cutoff_date_distribution(c_scores_all_f, \"- after filtering\")"
   ]
  },
  {
   "cell_type": "markdown",
   "metadata": {},
   "source": [
    "## Visualize all cutoffs"
   ]
  },
  {
   "cell_type": "code",
   "execution_count": null,
   "metadata": {},
   "outputs": [],
   "source": [
    "# todo: filter by months_since_cutoff to be in min_ max_samples range\n",
    "c_scores_subset_f = c_scores_all_f.loc[\n",
    "    np.logical_and(\n",
    "        c_scores_all_f[\"months_since_cutoff\"] >= min_samples,\n",
    "        c_scores_all_f[\"months_since_cutoff\"] <= max_samples,\n",
    "    ),\n",
    "    :,\n",
    "]\n",
    "c_scores_subset_f.shape"
   ]
  },
  {
   "cell_type": "code",
   "execution_count": null,
   "metadata": {},
   "outputs": [],
   "source": [
    "all_cutoffs = c_scores_subset_f.use_obs_until_day.unique().tolist()\n",
    "all_cutoffs.remove(1140)\n",
    "\n",
    "for cutoff in all_cutoffs:\n",
    "    c_scores_subset_f_ss = c_scores_subset_f[\n",
    "        c_scores_subset_f[\"use_obs_until_day\"] == cutoff\n",
    "    ].copy()\n",
    "    print(cutoff)\n",
    "    _plot_score_after_nth_abx_exposure(\n",
    "        c_scores_subset_f_ss,\n",
    "        x_axis=\"months_since_cutoff\",\n",
    "        y_axis=\"score\",\n",
    "        n=0,\n",
    "        path_to_save=evaluation_path,\n",
    "        flag=f\"noabx_cutoff{int(cutoff)}_scores\",\n",
    "        tag=f\"with cutoff={cutoff}\",\n",
    "        min_samples=min_samples,\n",
    "        max_samples=max_samples,\n",
    "        grouped_samples=group_samples,\n",
    "    )"
   ]
  }
 ],
 "metadata": {
  "kernelspec": {
   "display_name": "score_eval",
   "language": "python",
   "name": "python3"
  },
  "language_info": {
   "codemirror_mode": {
    "name": "ipython",
    "version": 3
   },
   "file_extension": ".py",
   "mimetype": "text/x-python",
   "name": "python",
   "nbconvert_exporter": "python",
   "pygments_lexer": "ipython3",
   "version": "3.12.4"
  }
 },
 "nbformat": 4,
 "nbformat_minor": 2
}
