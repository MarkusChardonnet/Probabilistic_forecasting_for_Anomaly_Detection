{
 "cells": [
  {
   "cell_type": "markdown",
   "metadata": {},
   "source": [
    "# Notebook to evaluate anomalies after abx by matching alpha diversity by covariates\n",
    "\n",
    "To run this notebook you need to create and activate the following conda environment:\n",
    "\n",
    "```\n",
    "conda create --name score_eval -c conda-forge -c defaults numpy pandas matplotlib seaborn scipy scikit-learn ipython ipykernel -y\n",
    "conda activate score_eval\n",
    "pip install -e .\n",
    "```\n"
   ]
  },
  {
   "cell_type": "markdown",
   "metadata": {
    "vscode": {
     "languageId": "plaintext"
    }
   },
   "source": [
    "## Setup"
   ]
  },
  {
   "cell_type": "code",
   "execution_count": null,
   "metadata": {},
   "outputs": [],
   "source": [
    "import os\n",
    "import warnings\n",
    "\n",
    "import pandas as pd\n",
    "\n",
    "from src.utils_eval_score import (\n",
    "    _plot_score_after_nth_abx_exposure,\n",
    "    _select_samples_around_nth_abx_exposure,\n",
    "    calculate_matched_metric_n_diff,\n",
    "    get_scores_n_abx_info,\n",
    ")\n",
    "\n",
    "%load_ext autoreload\n",
    "%autoreload 2\n",
    "%matplotlib inline\n",
    "\n",
    "warnings.filterwarnings(\"ignore\", category=FutureWarning)\n",
    "# avg. number of days per month\n",
    "DAYS_PER_MONTH = 30.437"
   ]
  },
  {
   "cell_type": "code",
   "execution_count": null,
   "metadata": {},
   "outputs": [],
   "source": [
    "#### USER INPUT START\n",
    "# name of the model\n",
    "model_name = \"saved_models_microbial_novel_alpha_div2/id-55\"\n",
    "# which model version to evaluate: \"best\" or \"last\"\n",
    "point_to_evaluate = \"best\"\n",
    "\n",
    "# name of feature dataset used for model\n",
    "ft_name = \"ft_vat19_anomaly_v20240806_entero_genus\"\n",
    "# name of abx time-series used for model\n",
    "abx_ts_name = \"ts_vat19_abx_v20240806\"\n",
    "\n",
    "# limit evaluation to time range up to this many months (if None no limit is set\n",
    "# and all scores are evaluated)\n",
    "limit_months = 24.0\n",
    "\n",
    "# whether to group samples prior to abx exposure in analysis\n",
    "group_samples = True\n",
    "\n",
    "# how many samples prior and after abx exposure to consider\n",
    "min_samples = -3.0\n",
    "max_samples = 6.0\n",
    "\n",
    "# whether to filter noabx score samples by having at least 1 obs prior to cutoff\n",
    "no_filter = True\n",
    "\n",
    "# whether to display diet info after 1st, 2nd, 3rd abx exposure plots\n",
    "display_diet_info = False\n",
    "\n",
    "# whether to have max. resolution of 0.5 months or not\n",
    "max_resolution = False\n",
    "\n",
    "# scaling factor options:\n",
    "scaling_factors_used = True\n",
    "\n",
    "# if scaling_factors_used is True, then the following options are required:\n",
    "# non-centered = \"nc_std\" or centered = \"std\"\n",
    "stddev_type = \"nc_std\"\n",
    "# moving average window size: 30 or 10\n",
    "moving_avg = 10\n",
    "# whether to include duplicates: \"--RD-True\" or \"\"\n",
    "duplicates = \"--RD-False\"\n",
    "# using lower bound of 1 for SFs: \"lower_bound-1\" or \"\"\n",
    "lower_bound = \"\"\n",
    "\n",
    "# variables to perform matching by\n",
    "matching_vars = [\"month_bin\", \"delivery_mode\", \"diet_milk\", \"diet_weaning\"]\n",
    "\n",
    "#### USER INPUT END"
   ]
  },
  {
   "cell_type": "markdown",
   "metadata": {},
   "source": [
    "## Read and prep data"
   ]
  },
  {
   "cell_type": "code",
   "execution_count": null,
   "metadata": {},
   "outputs": [],
   "source": [
    "base_path = f\"../data/{model_name}/anomaly_detection/\"\n",
    "\n",
    "res_n_group = f\"g{str(group_samples)[0]}_maxres{str(max_resolution)[0]}\"\n",
    "\n",
    "if scaling_factors_used:\n",
    "    print(\"Scaling factors used.\")\n",
    "    folder_name = f\"using-SF_{stddev_type}_z_scores--moving_avg-{moving_avg}-cummax{lower_bound}{duplicates}\"\n",
    "\n",
    "    scores_path = f\"{base_path}scores_{point_to_evaluate}_normal/{folder_name}/\"\n",
    "    evaluation_path = f\"{base_path}evaluation_{point_to_evaluate}_overall_{res_n_group}_{stddev_type}_ma{moving_avg}{duplicates.replace('-', '_').lower()}/\"\n",
    "else:\n",
    "    scores_path = f\"{base_path}scores_{point_to_evaluate}_normal/\"\n",
    "    evaluation_path = (\n",
    "        f\"{base_path}evaluation_{point_to_evaluate}_overall_{res_n_group}_no_scaling/\"\n",
    "    )\n",
    "if not os.path.exists(evaluation_path):\n",
    "    os.makedirs(evaluation_path)\n"
   ]
  },
  {
   "cell_type": "code",
   "execution_count": null,
   "metadata": {},
   "outputs": [],
   "source": [
    "noabx_train, noabx_val, abx_scores_flat, abx_df, abx_age_at_all = get_scores_n_abx_info(\n",
    "    scores_path, ft_name, limit_months, abx_ts_name, no_filter=no_filter\n",
    ")\n"
   ]
  },
  {
   "cell_type": "markdown",
   "metadata": {},
   "source": [
    "## Matching"
   ]
  },
  {
   "cell_type": "markdown",
   "metadata": {},
   "source": [
    "### Unmatched 1st abx\n",
    "\n",
    "effects observed are confounded by many covariates"
   ]
  },
  {
   "cell_type": "code",
   "execution_count": null,
   "metadata": {},
   "outputs": [],
   "source": [
    "# without proper matching little effect from abx visible - probably confounded\n",
    "# by age, diet, delivery mode\n",
    "n = 1\n",
    "metric = \"div_alpha_faith_pd\"\n",
    "\n",
    "# only select samples that are around n-th abx exposure\n",
    "abx_nth_samples = _select_samples_around_nth_abx_exposure(\n",
    "    abx_scores_flat,\n",
    "    abx_df,\n",
    "    n=n,\n",
    "    min_samples=min_samples,\n",
    "    max_samples=max_samples,\n",
    "    group_samples=group_samples,\n",
    "    score_var=metric,\n",
    "    max_resolution=max_resolution,\n",
    ")\n",
    "\n",
    "# create boxplot of this metric\n",
    "_plot_score_after_nth_abx_exposure(\n",
    "    abx_nth_samples,\n",
    "    x_axis=\"diff_age_nth_abx\",\n",
    "    y_axis=metric,\n",
    "    n=n,\n",
    "    path_to_save=evaluation_path,\n",
    "    flag=metric,\n",
    "    min_samples=min_samples,\n",
    "    max_samples=max_samples,\n",
    "    max_resolution=max_resolution,\n",
    "    grouped_samples=group_samples,\n",
    ")"
   ]
  },
  {
   "cell_type": "markdown",
   "metadata": {},
   "source": [
    "### Perform matching"
   ]
  },
  {
   "cell_type": "code",
   "execution_count": null,
   "metadata": {},
   "outputs": [],
   "source": [
    "noabx = pd.concat([noabx_train, noabx_val])\n",
    "\n",
    "for metric in [\n",
    "    \"div_alpha_faith_pd\",\n",
    "    # \"div_alpha_observed_features\",\n",
    "    # \"div_alpha_shannon\",\n",
    "]:\n",
    "    abx_scores_flat = calculate_matched_metric_n_diff(\n",
    "        metric, abx_scores_flat, noabx, matching_vars\n",
    "    )"
   ]
  },
  {
   "cell_type": "markdown",
   "metadata": {},
   "source": [
    "### Matched: 1st to 3rd abx exposure effect on Faith PD "
   ]
  },
  {
   "cell_type": "code",
   "execution_count": null,
   "metadata": {},
   "outputs": [],
   "source": [
    "metric = \"div_alpha_faith_pd\"\n",
    "\n",
    "for n in [1, 2, 3]:\n",
    "    plot_metric = \"Δ matched alpha diversity\"\n",
    "\n",
    "    # only select samples that are around n-th abx exposure\n",
    "    abx_nth_samples = _select_samples_around_nth_abx_exposure(\n",
    "        abx_scores_flat,\n",
    "        abx_df,\n",
    "        n=n,\n",
    "        min_samples=min_samples,\n",
    "        max_samples=max_samples,\n",
    "        group_samples=group_samples,\n",
    "        score_var=plot_metric,\n",
    "        max_resolution=max_resolution,\n",
    "    )\n",
    "    # create boxplot of this metric\n",
    "    _plot_score_after_nth_abx_exposure(\n",
    "        abx_nth_samples,\n",
    "        x_axis=\"diff_age_nth_abx\",\n",
    "        y_axis=plot_metric,\n",
    "        n=n,\n",
    "        path_to_save=evaluation_path,\n",
    "        flag=plot_metric,\n",
    "        min_samples=min_samples,\n",
    "        max_samples=max_samples,\n",
    "        max_resolution=max_resolution,\n",
    "        grouped_samples=group_samples,\n",
    "        boxplot_color=\"purple\",\n",
    "    )"
   ]
  },
  {
   "cell_type": "markdown",
   "metadata": {},
   "source": [
    "Conclusion:\n",
    "* By plotting simply diversity after abx exposure across all age ranges and other covariates the effects of abx exposure are less distinct than after matching by covariates.\n",
    "\n",
    "Recommendation drawn from these insights for modelling:\n",
    "* Recommendation to use **Faith PD** as alpha metrics in modelling (since all alpha diversity metrics capture similar trends and this one also includes phylogenetic information).\n",
    "* Recommendation to use **path dependent model**: This analysis aimed to see how long the antibiotics effect lasts on the microbiome, particularly the alpha diversity metric in our particular dataset. The analysis shows that at least for the 1st and 2nd antibiotics exposure the anomaly effect lasts for more than one timepoint. So there seem to be non-Markovian dynamics in the anomaly."
   ]
  }
 ],
 "metadata": {
  "kernelspec": {
   "display_name": "score_eval",
   "language": "python",
   "name": "python3"
  },
  "language_info": {
   "codemirror_mode": {
    "name": "ipython",
    "version": 3
   },
   "file_extension": ".py",
   "mimetype": "text/x-python",
   "name": "python",
   "nbconvert_exporter": "python",
   "pygments_lexer": "ipython3",
   "version": "3.13.0"
  }
 },
 "nbformat": 4,
 "nbformat_minor": 2
}
